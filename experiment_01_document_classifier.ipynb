{
  "nbformat": 4,
  "nbformat_minor": 0,
  "metadata": {
    "colab": {
      "provenance": [],
      "gpuType": "T4",
      "toc_visible": true,
      "authorship_tag": "ABX9TyOrgDrmtGJ6ctn0uxaVKTm7",
      "include_colab_link": true
    },
    "kernelspec": {
      "name": "python3",
      "display_name": "Python 3"
    },
    "language_info": {
      "name": "python"
    },
    "accelerator": "GPU",
    "widgets": {
      "application/vnd.jupyter.widget-state+json": {
        "2d6c3bea34e54273a862f6cd702bbf4d": {
          "model_module": "@jupyter-widgets/controls",
          "model_name": "HBoxModel",
          "model_module_version": "1.5.0",
          "state": {
            "_dom_classes": [],
            "_model_module": "@jupyter-widgets/controls",
            "_model_module_version": "1.5.0",
            "_model_name": "HBoxModel",
            "_view_count": null,
            "_view_module": "@jupyter-widgets/controls",
            "_view_module_version": "1.5.0",
            "_view_name": "HBoxView",
            "box_style": "",
            "children": [
              "IPY_MODEL_1adf98c60aed405db7cda51ed64bbb46",
              "IPY_MODEL_ffa3802d41f84656ba129aca63769a69",
              "IPY_MODEL_ced89df253a64ff2859cd131da173f1f"
            ],
            "layout": "IPY_MODEL_ebfbfcbf14404c5e8c1fdb40d7c20db8"
          }
        },
        "1adf98c60aed405db7cda51ed64bbb46": {
          "model_module": "@jupyter-widgets/controls",
          "model_name": "HTMLModel",
          "model_module_version": "1.5.0",
          "state": {
            "_dom_classes": [],
            "_model_module": "@jupyter-widgets/controls",
            "_model_module_version": "1.5.0",
            "_model_name": "HTMLModel",
            "_view_count": null,
            "_view_module": "@jupyter-widgets/controls",
            "_view_module_version": "1.5.0",
            "_view_name": "HTMLView",
            "description": "",
            "description_tooltip": null,
            "layout": "IPY_MODEL_f455ea3c2ded4d32b2e4631cb4cf0374",
            "placeholder": "​",
            "style": "IPY_MODEL_57e99524de7d42dfaf16981f07a3eec3",
            "value": "tokenizer_config.json: 100%"
          }
        },
        "ffa3802d41f84656ba129aca63769a69": {
          "model_module": "@jupyter-widgets/controls",
          "model_name": "FloatProgressModel",
          "model_module_version": "1.5.0",
          "state": {
            "_dom_classes": [],
            "_model_module": "@jupyter-widgets/controls",
            "_model_module_version": "1.5.0",
            "_model_name": "FloatProgressModel",
            "_view_count": null,
            "_view_module": "@jupyter-widgets/controls",
            "_view_module_version": "1.5.0",
            "_view_name": "ProgressView",
            "bar_style": "success",
            "description": "",
            "description_tooltip": null,
            "layout": "IPY_MODEL_762eccf5185644a18b8a3f27eaa8cd06",
            "max": 48,
            "min": 0,
            "orientation": "horizontal",
            "style": "IPY_MODEL_40c2733192fb4071995e243d3e227bc8",
            "value": 48
          }
        },
        "ced89df253a64ff2859cd131da173f1f": {
          "model_module": "@jupyter-widgets/controls",
          "model_name": "HTMLModel",
          "model_module_version": "1.5.0",
          "state": {
            "_dom_classes": [],
            "_model_module": "@jupyter-widgets/controls",
            "_model_module_version": "1.5.0",
            "_model_name": "HTMLModel",
            "_view_count": null,
            "_view_module": "@jupyter-widgets/controls",
            "_view_module_version": "1.5.0",
            "_view_name": "HTMLView",
            "description": "",
            "description_tooltip": null,
            "layout": "IPY_MODEL_dff8f776f6cc4c08bf80ee686be40081",
            "placeholder": "​",
            "style": "IPY_MODEL_c80585b117f345f3bc3d44cf61da870a",
            "value": " 48.0/48.0 [00:00&lt;00:00, 915B/s]"
          }
        },
        "ebfbfcbf14404c5e8c1fdb40d7c20db8": {
          "model_module": "@jupyter-widgets/base",
          "model_name": "LayoutModel",
          "model_module_version": "1.2.0",
          "state": {
            "_model_module": "@jupyter-widgets/base",
            "_model_module_version": "1.2.0",
            "_model_name": "LayoutModel",
            "_view_count": null,
            "_view_module": "@jupyter-widgets/base",
            "_view_module_version": "1.2.0",
            "_view_name": "LayoutView",
            "align_content": null,
            "align_items": null,
            "align_self": null,
            "border": null,
            "bottom": null,
            "display": null,
            "flex": null,
            "flex_flow": null,
            "grid_area": null,
            "grid_auto_columns": null,
            "grid_auto_flow": null,
            "grid_auto_rows": null,
            "grid_column": null,
            "grid_gap": null,
            "grid_row": null,
            "grid_template_areas": null,
            "grid_template_columns": null,
            "grid_template_rows": null,
            "height": null,
            "justify_content": null,
            "justify_items": null,
            "left": null,
            "margin": null,
            "max_height": null,
            "max_width": null,
            "min_height": null,
            "min_width": null,
            "object_fit": null,
            "object_position": null,
            "order": null,
            "overflow": null,
            "overflow_x": null,
            "overflow_y": null,
            "padding": null,
            "right": null,
            "top": null,
            "visibility": null,
            "width": null
          }
        },
        "f455ea3c2ded4d32b2e4631cb4cf0374": {
          "model_module": "@jupyter-widgets/base",
          "model_name": "LayoutModel",
          "model_module_version": "1.2.0",
          "state": {
            "_model_module": "@jupyter-widgets/base",
            "_model_module_version": "1.2.0",
            "_model_name": "LayoutModel",
            "_view_count": null,
            "_view_module": "@jupyter-widgets/base",
            "_view_module_version": "1.2.0",
            "_view_name": "LayoutView",
            "align_content": null,
            "align_items": null,
            "align_self": null,
            "border": null,
            "bottom": null,
            "display": null,
            "flex": null,
            "flex_flow": null,
            "grid_area": null,
            "grid_auto_columns": null,
            "grid_auto_flow": null,
            "grid_auto_rows": null,
            "grid_column": null,
            "grid_gap": null,
            "grid_row": null,
            "grid_template_areas": null,
            "grid_template_columns": null,
            "grid_template_rows": null,
            "height": null,
            "justify_content": null,
            "justify_items": null,
            "left": null,
            "margin": null,
            "max_height": null,
            "max_width": null,
            "min_height": null,
            "min_width": null,
            "object_fit": null,
            "object_position": null,
            "order": null,
            "overflow": null,
            "overflow_x": null,
            "overflow_y": null,
            "padding": null,
            "right": null,
            "top": null,
            "visibility": null,
            "width": null
          }
        },
        "57e99524de7d42dfaf16981f07a3eec3": {
          "model_module": "@jupyter-widgets/controls",
          "model_name": "DescriptionStyleModel",
          "model_module_version": "1.5.0",
          "state": {
            "_model_module": "@jupyter-widgets/controls",
            "_model_module_version": "1.5.0",
            "_model_name": "DescriptionStyleModel",
            "_view_count": null,
            "_view_module": "@jupyter-widgets/base",
            "_view_module_version": "1.2.0",
            "_view_name": "StyleView",
            "description_width": ""
          }
        },
        "762eccf5185644a18b8a3f27eaa8cd06": {
          "model_module": "@jupyter-widgets/base",
          "model_name": "LayoutModel",
          "model_module_version": "1.2.0",
          "state": {
            "_model_module": "@jupyter-widgets/base",
            "_model_module_version": "1.2.0",
            "_model_name": "LayoutModel",
            "_view_count": null,
            "_view_module": "@jupyter-widgets/base",
            "_view_module_version": "1.2.0",
            "_view_name": "LayoutView",
            "align_content": null,
            "align_items": null,
            "align_self": null,
            "border": null,
            "bottom": null,
            "display": null,
            "flex": null,
            "flex_flow": null,
            "grid_area": null,
            "grid_auto_columns": null,
            "grid_auto_flow": null,
            "grid_auto_rows": null,
            "grid_column": null,
            "grid_gap": null,
            "grid_row": null,
            "grid_template_areas": null,
            "grid_template_columns": null,
            "grid_template_rows": null,
            "height": null,
            "justify_content": null,
            "justify_items": null,
            "left": null,
            "margin": null,
            "max_height": null,
            "max_width": null,
            "min_height": null,
            "min_width": null,
            "object_fit": null,
            "object_position": null,
            "order": null,
            "overflow": null,
            "overflow_x": null,
            "overflow_y": null,
            "padding": null,
            "right": null,
            "top": null,
            "visibility": null,
            "width": null
          }
        },
        "40c2733192fb4071995e243d3e227bc8": {
          "model_module": "@jupyter-widgets/controls",
          "model_name": "ProgressStyleModel",
          "model_module_version": "1.5.0",
          "state": {
            "_model_module": "@jupyter-widgets/controls",
            "_model_module_version": "1.5.0",
            "_model_name": "ProgressStyleModel",
            "_view_count": null,
            "_view_module": "@jupyter-widgets/base",
            "_view_module_version": "1.2.0",
            "_view_name": "StyleView",
            "bar_color": null,
            "description_width": ""
          }
        },
        "dff8f776f6cc4c08bf80ee686be40081": {
          "model_module": "@jupyter-widgets/base",
          "model_name": "LayoutModel",
          "model_module_version": "1.2.0",
          "state": {
            "_model_module": "@jupyter-widgets/base",
            "_model_module_version": "1.2.0",
            "_model_name": "LayoutModel",
            "_view_count": null,
            "_view_module": "@jupyter-widgets/base",
            "_view_module_version": "1.2.0",
            "_view_name": "LayoutView",
            "align_content": null,
            "align_items": null,
            "align_self": null,
            "border": null,
            "bottom": null,
            "display": null,
            "flex": null,
            "flex_flow": null,
            "grid_area": null,
            "grid_auto_columns": null,
            "grid_auto_flow": null,
            "grid_auto_rows": null,
            "grid_column": null,
            "grid_gap": null,
            "grid_row": null,
            "grid_template_areas": null,
            "grid_template_columns": null,
            "grid_template_rows": null,
            "height": null,
            "justify_content": null,
            "justify_items": null,
            "left": null,
            "margin": null,
            "max_height": null,
            "max_width": null,
            "min_height": null,
            "min_width": null,
            "object_fit": null,
            "object_position": null,
            "order": null,
            "overflow": null,
            "overflow_x": null,
            "overflow_y": null,
            "padding": null,
            "right": null,
            "top": null,
            "visibility": null,
            "width": null
          }
        },
        "c80585b117f345f3bc3d44cf61da870a": {
          "model_module": "@jupyter-widgets/controls",
          "model_name": "DescriptionStyleModel",
          "model_module_version": "1.5.0",
          "state": {
            "_model_module": "@jupyter-widgets/controls",
            "_model_module_version": "1.5.0",
            "_model_name": "DescriptionStyleModel",
            "_view_count": null,
            "_view_module": "@jupyter-widgets/base",
            "_view_module_version": "1.2.0",
            "_view_name": "StyleView",
            "description_width": ""
          }
        },
        "2be033c0e5884c7a8711077895245c4c": {
          "model_module": "@jupyter-widgets/controls",
          "model_name": "HBoxModel",
          "model_module_version": "1.5.0",
          "state": {
            "_dom_classes": [],
            "_model_module": "@jupyter-widgets/controls",
            "_model_module_version": "1.5.0",
            "_model_name": "HBoxModel",
            "_view_count": null,
            "_view_module": "@jupyter-widgets/controls",
            "_view_module_version": "1.5.0",
            "_view_name": "HBoxView",
            "box_style": "",
            "children": [
              "IPY_MODEL_a036d9d3b7f24f268a3d51a951cf8989",
              "IPY_MODEL_01baff72afb14cacaa8c135ac3eba4c9",
              "IPY_MODEL_f0721646f7e84396931592e6f0119bc4"
            ],
            "layout": "IPY_MODEL_78cff4de477540ada33232822be72a44"
          }
        },
        "a036d9d3b7f24f268a3d51a951cf8989": {
          "model_module": "@jupyter-widgets/controls",
          "model_name": "HTMLModel",
          "model_module_version": "1.5.0",
          "state": {
            "_dom_classes": [],
            "_model_module": "@jupyter-widgets/controls",
            "_model_module_version": "1.5.0",
            "_model_name": "HTMLModel",
            "_view_count": null,
            "_view_module": "@jupyter-widgets/controls",
            "_view_module_version": "1.5.0",
            "_view_name": "HTMLView",
            "description": "",
            "description_tooltip": null,
            "layout": "IPY_MODEL_72befb33a8dd426d9c04f759668e29e4",
            "placeholder": "​",
            "style": "IPY_MODEL_89dd8d64717f411c89fe080fb95c209f",
            "value": "vocab.txt: 100%"
          }
        },
        "01baff72afb14cacaa8c135ac3eba4c9": {
          "model_module": "@jupyter-widgets/controls",
          "model_name": "FloatProgressModel",
          "model_module_version": "1.5.0",
          "state": {
            "_dom_classes": [],
            "_model_module": "@jupyter-widgets/controls",
            "_model_module_version": "1.5.0",
            "_model_name": "FloatProgressModel",
            "_view_count": null,
            "_view_module": "@jupyter-widgets/controls",
            "_view_module_version": "1.5.0",
            "_view_name": "ProgressView",
            "bar_style": "success",
            "description": "",
            "description_tooltip": null,
            "layout": "IPY_MODEL_5cb51731d38f4e179c0f13dc2db68717",
            "max": 231508,
            "min": 0,
            "orientation": "horizontal",
            "style": "IPY_MODEL_7edea1171a8a469eae648624b5866067",
            "value": 231508
          }
        },
        "f0721646f7e84396931592e6f0119bc4": {
          "model_module": "@jupyter-widgets/controls",
          "model_name": "HTMLModel",
          "model_module_version": "1.5.0",
          "state": {
            "_dom_classes": [],
            "_model_module": "@jupyter-widgets/controls",
            "_model_module_version": "1.5.0",
            "_model_name": "HTMLModel",
            "_view_count": null,
            "_view_module": "@jupyter-widgets/controls",
            "_view_module_version": "1.5.0",
            "_view_name": "HTMLView",
            "description": "",
            "description_tooltip": null,
            "layout": "IPY_MODEL_2805cd5ea2194442b5891e01a3a8ec79",
            "placeholder": "​",
            "style": "IPY_MODEL_de2a0800d43b4376a46f582c4bc634f4",
            "value": " 232k/232k [00:00&lt;00:00, 2.42MB/s]"
          }
        },
        "78cff4de477540ada33232822be72a44": {
          "model_module": "@jupyter-widgets/base",
          "model_name": "LayoutModel",
          "model_module_version": "1.2.0",
          "state": {
            "_model_module": "@jupyter-widgets/base",
            "_model_module_version": "1.2.0",
            "_model_name": "LayoutModel",
            "_view_count": null,
            "_view_module": "@jupyter-widgets/base",
            "_view_module_version": "1.2.0",
            "_view_name": "LayoutView",
            "align_content": null,
            "align_items": null,
            "align_self": null,
            "border": null,
            "bottom": null,
            "display": null,
            "flex": null,
            "flex_flow": null,
            "grid_area": null,
            "grid_auto_columns": null,
            "grid_auto_flow": null,
            "grid_auto_rows": null,
            "grid_column": null,
            "grid_gap": null,
            "grid_row": null,
            "grid_template_areas": null,
            "grid_template_columns": null,
            "grid_template_rows": null,
            "height": null,
            "justify_content": null,
            "justify_items": null,
            "left": null,
            "margin": null,
            "max_height": null,
            "max_width": null,
            "min_height": null,
            "min_width": null,
            "object_fit": null,
            "object_position": null,
            "order": null,
            "overflow": null,
            "overflow_x": null,
            "overflow_y": null,
            "padding": null,
            "right": null,
            "top": null,
            "visibility": null,
            "width": null
          }
        },
        "72befb33a8dd426d9c04f759668e29e4": {
          "model_module": "@jupyter-widgets/base",
          "model_name": "LayoutModel",
          "model_module_version": "1.2.0",
          "state": {
            "_model_module": "@jupyter-widgets/base",
            "_model_module_version": "1.2.0",
            "_model_name": "LayoutModel",
            "_view_count": null,
            "_view_module": "@jupyter-widgets/base",
            "_view_module_version": "1.2.0",
            "_view_name": "LayoutView",
            "align_content": null,
            "align_items": null,
            "align_self": null,
            "border": null,
            "bottom": null,
            "display": null,
            "flex": null,
            "flex_flow": null,
            "grid_area": null,
            "grid_auto_columns": null,
            "grid_auto_flow": null,
            "grid_auto_rows": null,
            "grid_column": null,
            "grid_gap": null,
            "grid_row": null,
            "grid_template_areas": null,
            "grid_template_columns": null,
            "grid_template_rows": null,
            "height": null,
            "justify_content": null,
            "justify_items": null,
            "left": null,
            "margin": null,
            "max_height": null,
            "max_width": null,
            "min_height": null,
            "min_width": null,
            "object_fit": null,
            "object_position": null,
            "order": null,
            "overflow": null,
            "overflow_x": null,
            "overflow_y": null,
            "padding": null,
            "right": null,
            "top": null,
            "visibility": null,
            "width": null
          }
        },
        "89dd8d64717f411c89fe080fb95c209f": {
          "model_module": "@jupyter-widgets/controls",
          "model_name": "DescriptionStyleModel",
          "model_module_version": "1.5.0",
          "state": {
            "_model_module": "@jupyter-widgets/controls",
            "_model_module_version": "1.5.0",
            "_model_name": "DescriptionStyleModel",
            "_view_count": null,
            "_view_module": "@jupyter-widgets/base",
            "_view_module_version": "1.2.0",
            "_view_name": "StyleView",
            "description_width": ""
          }
        },
        "5cb51731d38f4e179c0f13dc2db68717": {
          "model_module": "@jupyter-widgets/base",
          "model_name": "LayoutModel",
          "model_module_version": "1.2.0",
          "state": {
            "_model_module": "@jupyter-widgets/base",
            "_model_module_version": "1.2.0",
            "_model_name": "LayoutModel",
            "_view_count": null,
            "_view_module": "@jupyter-widgets/base",
            "_view_module_version": "1.2.0",
            "_view_name": "LayoutView",
            "align_content": null,
            "align_items": null,
            "align_self": null,
            "border": null,
            "bottom": null,
            "display": null,
            "flex": null,
            "flex_flow": null,
            "grid_area": null,
            "grid_auto_columns": null,
            "grid_auto_flow": null,
            "grid_auto_rows": null,
            "grid_column": null,
            "grid_gap": null,
            "grid_row": null,
            "grid_template_areas": null,
            "grid_template_columns": null,
            "grid_template_rows": null,
            "height": null,
            "justify_content": null,
            "justify_items": null,
            "left": null,
            "margin": null,
            "max_height": null,
            "max_width": null,
            "min_height": null,
            "min_width": null,
            "object_fit": null,
            "object_position": null,
            "order": null,
            "overflow": null,
            "overflow_x": null,
            "overflow_y": null,
            "padding": null,
            "right": null,
            "top": null,
            "visibility": null,
            "width": null
          }
        },
        "7edea1171a8a469eae648624b5866067": {
          "model_module": "@jupyter-widgets/controls",
          "model_name": "ProgressStyleModel",
          "model_module_version": "1.5.0",
          "state": {
            "_model_module": "@jupyter-widgets/controls",
            "_model_module_version": "1.5.0",
            "_model_name": "ProgressStyleModel",
            "_view_count": null,
            "_view_module": "@jupyter-widgets/base",
            "_view_module_version": "1.2.0",
            "_view_name": "StyleView",
            "bar_color": null,
            "description_width": ""
          }
        },
        "2805cd5ea2194442b5891e01a3a8ec79": {
          "model_module": "@jupyter-widgets/base",
          "model_name": "LayoutModel",
          "model_module_version": "1.2.0",
          "state": {
            "_model_module": "@jupyter-widgets/base",
            "_model_module_version": "1.2.0",
            "_model_name": "LayoutModel",
            "_view_count": null,
            "_view_module": "@jupyter-widgets/base",
            "_view_module_version": "1.2.0",
            "_view_name": "LayoutView",
            "align_content": null,
            "align_items": null,
            "align_self": null,
            "border": null,
            "bottom": null,
            "display": null,
            "flex": null,
            "flex_flow": null,
            "grid_area": null,
            "grid_auto_columns": null,
            "grid_auto_flow": null,
            "grid_auto_rows": null,
            "grid_column": null,
            "grid_gap": null,
            "grid_row": null,
            "grid_template_areas": null,
            "grid_template_columns": null,
            "grid_template_rows": null,
            "height": null,
            "justify_content": null,
            "justify_items": null,
            "left": null,
            "margin": null,
            "max_height": null,
            "max_width": null,
            "min_height": null,
            "min_width": null,
            "object_fit": null,
            "object_position": null,
            "order": null,
            "overflow": null,
            "overflow_x": null,
            "overflow_y": null,
            "padding": null,
            "right": null,
            "top": null,
            "visibility": null,
            "width": null
          }
        },
        "de2a0800d43b4376a46f582c4bc634f4": {
          "model_module": "@jupyter-widgets/controls",
          "model_name": "DescriptionStyleModel",
          "model_module_version": "1.5.0",
          "state": {
            "_model_module": "@jupyter-widgets/controls",
            "_model_module_version": "1.5.0",
            "_model_name": "DescriptionStyleModel",
            "_view_count": null,
            "_view_module": "@jupyter-widgets/base",
            "_view_module_version": "1.2.0",
            "_view_name": "StyleView",
            "description_width": ""
          }
        },
        "93067fbd969243088cd2e49b3a333bb8": {
          "model_module": "@jupyter-widgets/controls",
          "model_name": "HBoxModel",
          "model_module_version": "1.5.0",
          "state": {
            "_dom_classes": [],
            "_model_module": "@jupyter-widgets/controls",
            "_model_module_version": "1.5.0",
            "_model_name": "HBoxModel",
            "_view_count": null,
            "_view_module": "@jupyter-widgets/controls",
            "_view_module_version": "1.5.0",
            "_view_name": "HBoxView",
            "box_style": "",
            "children": [
              "IPY_MODEL_c36d094c804a41678720ad9297d3a0e0",
              "IPY_MODEL_a1656007dc0744afb20768cb6e3cb47d",
              "IPY_MODEL_9ebf867272674f3ab32419eef169d459"
            ],
            "layout": "IPY_MODEL_2f0aa53622f94d98a996cdf18c70a41b"
          }
        },
        "c36d094c804a41678720ad9297d3a0e0": {
          "model_module": "@jupyter-widgets/controls",
          "model_name": "HTMLModel",
          "model_module_version": "1.5.0",
          "state": {
            "_dom_classes": [],
            "_model_module": "@jupyter-widgets/controls",
            "_model_module_version": "1.5.0",
            "_model_name": "HTMLModel",
            "_view_count": null,
            "_view_module": "@jupyter-widgets/controls",
            "_view_module_version": "1.5.0",
            "_view_name": "HTMLView",
            "description": "",
            "description_tooltip": null,
            "layout": "IPY_MODEL_89591614c49548febf73a4bb13941dbc",
            "placeholder": "​",
            "style": "IPY_MODEL_cedf6c43fa354c88bf741a537c392930",
            "value": "tokenizer.json: 100%"
          }
        },
        "a1656007dc0744afb20768cb6e3cb47d": {
          "model_module": "@jupyter-widgets/controls",
          "model_name": "FloatProgressModel",
          "model_module_version": "1.5.0",
          "state": {
            "_dom_classes": [],
            "_model_module": "@jupyter-widgets/controls",
            "_model_module_version": "1.5.0",
            "_model_name": "FloatProgressModel",
            "_view_count": null,
            "_view_module": "@jupyter-widgets/controls",
            "_view_module_version": "1.5.0",
            "_view_name": "ProgressView",
            "bar_style": "success",
            "description": "",
            "description_tooltip": null,
            "layout": "IPY_MODEL_ecca0e409ee646c5870c9080bc58e537",
            "max": 466062,
            "min": 0,
            "orientation": "horizontal",
            "style": "IPY_MODEL_67c26779f1c24eacaa6637c81294f746",
            "value": 466062
          }
        },
        "9ebf867272674f3ab32419eef169d459": {
          "model_module": "@jupyter-widgets/controls",
          "model_name": "HTMLModel",
          "model_module_version": "1.5.0",
          "state": {
            "_dom_classes": [],
            "_model_module": "@jupyter-widgets/controls",
            "_model_module_version": "1.5.0",
            "_model_name": "HTMLModel",
            "_view_count": null,
            "_view_module": "@jupyter-widgets/controls",
            "_view_module_version": "1.5.0",
            "_view_name": "HTMLView",
            "description": "",
            "description_tooltip": null,
            "layout": "IPY_MODEL_db103af0c034497faccfacd9a821e3e6",
            "placeholder": "​",
            "style": "IPY_MODEL_e3e82043529045948c08f85a83064370",
            "value": " 466k/466k [00:00&lt;00:00, 4.79MB/s]"
          }
        },
        "2f0aa53622f94d98a996cdf18c70a41b": {
          "model_module": "@jupyter-widgets/base",
          "model_name": "LayoutModel",
          "model_module_version": "1.2.0",
          "state": {
            "_model_module": "@jupyter-widgets/base",
            "_model_module_version": "1.2.0",
            "_model_name": "LayoutModel",
            "_view_count": null,
            "_view_module": "@jupyter-widgets/base",
            "_view_module_version": "1.2.0",
            "_view_name": "LayoutView",
            "align_content": null,
            "align_items": null,
            "align_self": null,
            "border": null,
            "bottom": null,
            "display": null,
            "flex": null,
            "flex_flow": null,
            "grid_area": null,
            "grid_auto_columns": null,
            "grid_auto_flow": null,
            "grid_auto_rows": null,
            "grid_column": null,
            "grid_gap": null,
            "grid_row": null,
            "grid_template_areas": null,
            "grid_template_columns": null,
            "grid_template_rows": null,
            "height": null,
            "justify_content": null,
            "justify_items": null,
            "left": null,
            "margin": null,
            "max_height": null,
            "max_width": null,
            "min_height": null,
            "min_width": null,
            "object_fit": null,
            "object_position": null,
            "order": null,
            "overflow": null,
            "overflow_x": null,
            "overflow_y": null,
            "padding": null,
            "right": null,
            "top": null,
            "visibility": null,
            "width": null
          }
        },
        "89591614c49548febf73a4bb13941dbc": {
          "model_module": "@jupyter-widgets/base",
          "model_name": "LayoutModel",
          "model_module_version": "1.2.0",
          "state": {
            "_model_module": "@jupyter-widgets/base",
            "_model_module_version": "1.2.0",
            "_model_name": "LayoutModel",
            "_view_count": null,
            "_view_module": "@jupyter-widgets/base",
            "_view_module_version": "1.2.0",
            "_view_name": "LayoutView",
            "align_content": null,
            "align_items": null,
            "align_self": null,
            "border": null,
            "bottom": null,
            "display": null,
            "flex": null,
            "flex_flow": null,
            "grid_area": null,
            "grid_auto_columns": null,
            "grid_auto_flow": null,
            "grid_auto_rows": null,
            "grid_column": null,
            "grid_gap": null,
            "grid_row": null,
            "grid_template_areas": null,
            "grid_template_columns": null,
            "grid_template_rows": null,
            "height": null,
            "justify_content": null,
            "justify_items": null,
            "left": null,
            "margin": null,
            "max_height": null,
            "max_width": null,
            "min_height": null,
            "min_width": null,
            "object_fit": null,
            "object_position": null,
            "order": null,
            "overflow": null,
            "overflow_x": null,
            "overflow_y": null,
            "padding": null,
            "right": null,
            "top": null,
            "visibility": null,
            "width": null
          }
        },
        "cedf6c43fa354c88bf741a537c392930": {
          "model_module": "@jupyter-widgets/controls",
          "model_name": "DescriptionStyleModel",
          "model_module_version": "1.5.0",
          "state": {
            "_model_module": "@jupyter-widgets/controls",
            "_model_module_version": "1.5.0",
            "_model_name": "DescriptionStyleModel",
            "_view_count": null,
            "_view_module": "@jupyter-widgets/base",
            "_view_module_version": "1.2.0",
            "_view_name": "StyleView",
            "description_width": ""
          }
        },
        "ecca0e409ee646c5870c9080bc58e537": {
          "model_module": "@jupyter-widgets/base",
          "model_name": "LayoutModel",
          "model_module_version": "1.2.0",
          "state": {
            "_model_module": "@jupyter-widgets/base",
            "_model_module_version": "1.2.0",
            "_model_name": "LayoutModel",
            "_view_count": null,
            "_view_module": "@jupyter-widgets/base",
            "_view_module_version": "1.2.0",
            "_view_name": "LayoutView",
            "align_content": null,
            "align_items": null,
            "align_self": null,
            "border": null,
            "bottom": null,
            "display": null,
            "flex": null,
            "flex_flow": null,
            "grid_area": null,
            "grid_auto_columns": null,
            "grid_auto_flow": null,
            "grid_auto_rows": null,
            "grid_column": null,
            "grid_gap": null,
            "grid_row": null,
            "grid_template_areas": null,
            "grid_template_columns": null,
            "grid_template_rows": null,
            "height": null,
            "justify_content": null,
            "justify_items": null,
            "left": null,
            "margin": null,
            "max_height": null,
            "max_width": null,
            "min_height": null,
            "min_width": null,
            "object_fit": null,
            "object_position": null,
            "order": null,
            "overflow": null,
            "overflow_x": null,
            "overflow_y": null,
            "padding": null,
            "right": null,
            "top": null,
            "visibility": null,
            "width": null
          }
        },
        "67c26779f1c24eacaa6637c81294f746": {
          "model_module": "@jupyter-widgets/controls",
          "model_name": "ProgressStyleModel",
          "model_module_version": "1.5.0",
          "state": {
            "_model_module": "@jupyter-widgets/controls",
            "_model_module_version": "1.5.0",
            "_model_name": "ProgressStyleModel",
            "_view_count": null,
            "_view_module": "@jupyter-widgets/base",
            "_view_module_version": "1.2.0",
            "_view_name": "StyleView",
            "bar_color": null,
            "description_width": ""
          }
        },
        "db103af0c034497faccfacd9a821e3e6": {
          "model_module": "@jupyter-widgets/base",
          "model_name": "LayoutModel",
          "model_module_version": "1.2.0",
          "state": {
            "_model_module": "@jupyter-widgets/base",
            "_model_module_version": "1.2.0",
            "_model_name": "LayoutModel",
            "_view_count": null,
            "_view_module": "@jupyter-widgets/base",
            "_view_module_version": "1.2.0",
            "_view_name": "LayoutView",
            "align_content": null,
            "align_items": null,
            "align_self": null,
            "border": null,
            "bottom": null,
            "display": null,
            "flex": null,
            "flex_flow": null,
            "grid_area": null,
            "grid_auto_columns": null,
            "grid_auto_flow": null,
            "grid_auto_rows": null,
            "grid_column": null,
            "grid_gap": null,
            "grid_row": null,
            "grid_template_areas": null,
            "grid_template_columns": null,
            "grid_template_rows": null,
            "height": null,
            "justify_content": null,
            "justify_items": null,
            "left": null,
            "margin": null,
            "max_height": null,
            "max_width": null,
            "min_height": null,
            "min_width": null,
            "object_fit": null,
            "object_position": null,
            "order": null,
            "overflow": null,
            "overflow_x": null,
            "overflow_y": null,
            "padding": null,
            "right": null,
            "top": null,
            "visibility": null,
            "width": null
          }
        },
        "e3e82043529045948c08f85a83064370": {
          "model_module": "@jupyter-widgets/controls",
          "model_name": "DescriptionStyleModel",
          "model_module_version": "1.5.0",
          "state": {
            "_model_module": "@jupyter-widgets/controls",
            "_model_module_version": "1.5.0",
            "_model_name": "DescriptionStyleModel",
            "_view_count": null,
            "_view_module": "@jupyter-widgets/base",
            "_view_module_version": "1.2.0",
            "_view_name": "StyleView",
            "description_width": ""
          }
        },
        "a257cbdb5a6e4f0288d963a1d5c6dd8d": {
          "model_module": "@jupyter-widgets/controls",
          "model_name": "HBoxModel",
          "model_module_version": "1.5.0",
          "state": {
            "_dom_classes": [],
            "_model_module": "@jupyter-widgets/controls",
            "_model_module_version": "1.5.0",
            "_model_name": "HBoxModel",
            "_view_count": null,
            "_view_module": "@jupyter-widgets/controls",
            "_view_module_version": "1.5.0",
            "_view_name": "HBoxView",
            "box_style": "",
            "children": [
              "IPY_MODEL_41382db8cb2d49fba6c08fd9ed700629",
              "IPY_MODEL_bc878d5a56054b05b8807ceafceb4e17",
              "IPY_MODEL_1c3af48de9dd45599487711016f72ec2"
            ],
            "layout": "IPY_MODEL_0b177f3b41144e9395f58a7dafd27534"
          }
        },
        "41382db8cb2d49fba6c08fd9ed700629": {
          "model_module": "@jupyter-widgets/controls",
          "model_name": "HTMLModel",
          "model_module_version": "1.5.0",
          "state": {
            "_dom_classes": [],
            "_model_module": "@jupyter-widgets/controls",
            "_model_module_version": "1.5.0",
            "_model_name": "HTMLModel",
            "_view_count": null,
            "_view_module": "@jupyter-widgets/controls",
            "_view_module_version": "1.5.0",
            "_view_name": "HTMLView",
            "description": "",
            "description_tooltip": null,
            "layout": "IPY_MODEL_c609d63cec0249dd81ebac9d66fc0560",
            "placeholder": "​",
            "style": "IPY_MODEL_55cdedb9d3a542f192977e29f3bd0d12",
            "value": "config.json: 100%"
          }
        },
        "bc878d5a56054b05b8807ceafceb4e17": {
          "model_module": "@jupyter-widgets/controls",
          "model_name": "FloatProgressModel",
          "model_module_version": "1.5.0",
          "state": {
            "_dom_classes": [],
            "_model_module": "@jupyter-widgets/controls",
            "_model_module_version": "1.5.0",
            "_model_name": "FloatProgressModel",
            "_view_count": null,
            "_view_module": "@jupyter-widgets/controls",
            "_view_module_version": "1.5.0",
            "_view_name": "ProgressView",
            "bar_style": "success",
            "description": "",
            "description_tooltip": null,
            "layout": "IPY_MODEL_6435d9fe0a804e81975da21910ef7b45",
            "max": 570,
            "min": 0,
            "orientation": "horizontal",
            "style": "IPY_MODEL_6d7dce7b87834f0db530eba0af4d5a69",
            "value": 570
          }
        },
        "1c3af48de9dd45599487711016f72ec2": {
          "model_module": "@jupyter-widgets/controls",
          "model_name": "HTMLModel",
          "model_module_version": "1.5.0",
          "state": {
            "_dom_classes": [],
            "_model_module": "@jupyter-widgets/controls",
            "_model_module_version": "1.5.0",
            "_model_name": "HTMLModel",
            "_view_count": null,
            "_view_module": "@jupyter-widgets/controls",
            "_view_module_version": "1.5.0",
            "_view_name": "HTMLView",
            "description": "",
            "description_tooltip": null,
            "layout": "IPY_MODEL_0557ec65410b40c6a7759a7492232546",
            "placeholder": "​",
            "style": "IPY_MODEL_7c320ab785ec435180b935956bafbed7",
            "value": " 570/570 [00:00&lt;00:00, 11.2kB/s]"
          }
        },
        "0b177f3b41144e9395f58a7dafd27534": {
          "model_module": "@jupyter-widgets/base",
          "model_name": "LayoutModel",
          "model_module_version": "1.2.0",
          "state": {
            "_model_module": "@jupyter-widgets/base",
            "_model_module_version": "1.2.0",
            "_model_name": "LayoutModel",
            "_view_count": null,
            "_view_module": "@jupyter-widgets/base",
            "_view_module_version": "1.2.0",
            "_view_name": "LayoutView",
            "align_content": null,
            "align_items": null,
            "align_self": null,
            "border": null,
            "bottom": null,
            "display": null,
            "flex": null,
            "flex_flow": null,
            "grid_area": null,
            "grid_auto_columns": null,
            "grid_auto_flow": null,
            "grid_auto_rows": null,
            "grid_column": null,
            "grid_gap": null,
            "grid_row": null,
            "grid_template_areas": null,
            "grid_template_columns": null,
            "grid_template_rows": null,
            "height": null,
            "justify_content": null,
            "justify_items": null,
            "left": null,
            "margin": null,
            "max_height": null,
            "max_width": null,
            "min_height": null,
            "min_width": null,
            "object_fit": null,
            "object_position": null,
            "order": null,
            "overflow": null,
            "overflow_x": null,
            "overflow_y": null,
            "padding": null,
            "right": null,
            "top": null,
            "visibility": null,
            "width": null
          }
        },
        "c609d63cec0249dd81ebac9d66fc0560": {
          "model_module": "@jupyter-widgets/base",
          "model_name": "LayoutModel",
          "model_module_version": "1.2.0",
          "state": {
            "_model_module": "@jupyter-widgets/base",
            "_model_module_version": "1.2.0",
            "_model_name": "LayoutModel",
            "_view_count": null,
            "_view_module": "@jupyter-widgets/base",
            "_view_module_version": "1.2.0",
            "_view_name": "LayoutView",
            "align_content": null,
            "align_items": null,
            "align_self": null,
            "border": null,
            "bottom": null,
            "display": null,
            "flex": null,
            "flex_flow": null,
            "grid_area": null,
            "grid_auto_columns": null,
            "grid_auto_flow": null,
            "grid_auto_rows": null,
            "grid_column": null,
            "grid_gap": null,
            "grid_row": null,
            "grid_template_areas": null,
            "grid_template_columns": null,
            "grid_template_rows": null,
            "height": null,
            "justify_content": null,
            "justify_items": null,
            "left": null,
            "margin": null,
            "max_height": null,
            "max_width": null,
            "min_height": null,
            "min_width": null,
            "object_fit": null,
            "object_position": null,
            "order": null,
            "overflow": null,
            "overflow_x": null,
            "overflow_y": null,
            "padding": null,
            "right": null,
            "top": null,
            "visibility": null,
            "width": null
          }
        },
        "55cdedb9d3a542f192977e29f3bd0d12": {
          "model_module": "@jupyter-widgets/controls",
          "model_name": "DescriptionStyleModel",
          "model_module_version": "1.5.0",
          "state": {
            "_model_module": "@jupyter-widgets/controls",
            "_model_module_version": "1.5.0",
            "_model_name": "DescriptionStyleModel",
            "_view_count": null,
            "_view_module": "@jupyter-widgets/base",
            "_view_module_version": "1.2.0",
            "_view_name": "StyleView",
            "description_width": ""
          }
        },
        "6435d9fe0a804e81975da21910ef7b45": {
          "model_module": "@jupyter-widgets/base",
          "model_name": "LayoutModel",
          "model_module_version": "1.2.0",
          "state": {
            "_model_module": "@jupyter-widgets/base",
            "_model_module_version": "1.2.0",
            "_model_name": "LayoutModel",
            "_view_count": null,
            "_view_module": "@jupyter-widgets/base",
            "_view_module_version": "1.2.0",
            "_view_name": "LayoutView",
            "align_content": null,
            "align_items": null,
            "align_self": null,
            "border": null,
            "bottom": null,
            "display": null,
            "flex": null,
            "flex_flow": null,
            "grid_area": null,
            "grid_auto_columns": null,
            "grid_auto_flow": null,
            "grid_auto_rows": null,
            "grid_column": null,
            "grid_gap": null,
            "grid_row": null,
            "grid_template_areas": null,
            "grid_template_columns": null,
            "grid_template_rows": null,
            "height": null,
            "justify_content": null,
            "justify_items": null,
            "left": null,
            "margin": null,
            "max_height": null,
            "max_width": null,
            "min_height": null,
            "min_width": null,
            "object_fit": null,
            "object_position": null,
            "order": null,
            "overflow": null,
            "overflow_x": null,
            "overflow_y": null,
            "padding": null,
            "right": null,
            "top": null,
            "visibility": null,
            "width": null
          }
        },
        "6d7dce7b87834f0db530eba0af4d5a69": {
          "model_module": "@jupyter-widgets/controls",
          "model_name": "ProgressStyleModel",
          "model_module_version": "1.5.0",
          "state": {
            "_model_module": "@jupyter-widgets/controls",
            "_model_module_version": "1.5.0",
            "_model_name": "ProgressStyleModel",
            "_view_count": null,
            "_view_module": "@jupyter-widgets/base",
            "_view_module_version": "1.2.0",
            "_view_name": "StyleView",
            "bar_color": null,
            "description_width": ""
          }
        },
        "0557ec65410b40c6a7759a7492232546": {
          "model_module": "@jupyter-widgets/base",
          "model_name": "LayoutModel",
          "model_module_version": "1.2.0",
          "state": {
            "_model_module": "@jupyter-widgets/base",
            "_model_module_version": "1.2.0",
            "_model_name": "LayoutModel",
            "_view_count": null,
            "_view_module": "@jupyter-widgets/base",
            "_view_module_version": "1.2.0",
            "_view_name": "LayoutView",
            "align_content": null,
            "align_items": null,
            "align_self": null,
            "border": null,
            "bottom": null,
            "display": null,
            "flex": null,
            "flex_flow": null,
            "grid_area": null,
            "grid_auto_columns": null,
            "grid_auto_flow": null,
            "grid_auto_rows": null,
            "grid_column": null,
            "grid_gap": null,
            "grid_row": null,
            "grid_template_areas": null,
            "grid_template_columns": null,
            "grid_template_rows": null,
            "height": null,
            "justify_content": null,
            "justify_items": null,
            "left": null,
            "margin": null,
            "max_height": null,
            "max_width": null,
            "min_height": null,
            "min_width": null,
            "object_fit": null,
            "object_position": null,
            "order": null,
            "overflow": null,
            "overflow_x": null,
            "overflow_y": null,
            "padding": null,
            "right": null,
            "top": null,
            "visibility": null,
            "width": null
          }
        },
        "7c320ab785ec435180b935956bafbed7": {
          "model_module": "@jupyter-widgets/controls",
          "model_name": "DescriptionStyleModel",
          "model_module_version": "1.5.0",
          "state": {
            "_model_module": "@jupyter-widgets/controls",
            "_model_module_version": "1.5.0",
            "_model_name": "DescriptionStyleModel",
            "_view_count": null,
            "_view_module": "@jupyter-widgets/base",
            "_view_module_version": "1.2.0",
            "_view_name": "StyleView",
            "description_width": ""
          }
        }
      }
    }
  },
  "cells": [
    {
      "cell_type": "markdown",
      "metadata": {
        "id": "view-in-github",
        "colab_type": "text"
      },
      "source": [
        "<a href=\"https://colab.research.google.com/github/ayu2912/AutoPaperClassifier/blob/main/experiment_01_document_classifier.ipynb\" target=\"_parent\"><img src=\"https://colab.research.google.com/assets/colab-badge.svg\" alt=\"Open In Colab\"/></a>"
      ]
    },
    {
      "cell_type": "markdown",
      "source": [
        " # SETUP AND IMPORTS"
      ],
      "metadata": {
        "id": "BbwCu6gjMgf1"
      }
    },
    {
      "cell_type": "code",
      "execution_count": null,
      "metadata": {
        "colab": {
          "base_uri": "https://localhost:8080/"
        },
        "id": "h9X2omDrIdWl",
        "outputId": "6401f547-d0f7-4cc5-e69b-3618a73790ab"
      },
      "outputs": [
        {
          "output_type": "stream",
          "name": "stdout",
          "text": [
            "✅ All packages imported successfully and compatible!\n"
          ]
        }
      ],
      "source": [
        "#importing all the necessary libraries and packages\n",
        "import pandas as pd\n",
        "import numpy as np\n",
        "import matplotlib.pyplot as plt\n",
        "import seaborn as sns\n",
        "from sklearn.model_selection import train_test_split\n",
        "from sklearn.metrics import accuracy_score, classification_report, confusion_matrix\n",
        "from sklearn.feature_extraction.text import TfidfVectorizer\n",
        "from sklearn.ensemble import RandomForestClassifier\n",
        "import torch\n",
        "import torch.nn as nn\n",
        "from transformers import AutoTokenizer, AutoModel, AutoModelForSequenceClassification, Trainer, TrainingArguments\n",
        "import json, re\n",
        "from collections import Counter\n",
        "import warnings\n",
        "\n",
        "warnings.filterwarnings('ignore')\n",
        "np.random.seed(42)\n",
        "\n",
        "print(\"✅ All packages imported successfully and compatible!\")"
      ]
    },
    {
      "cell_type": "code",
      "source": [
        "#Imports for document processing\n",
        "import os\n",
        "import xml.etree.ElementTree as ET\n",
        "from pathlib import Path"
      ],
      "metadata": {
        "id": "ggbADrOJMp-S"
      },
      "execution_count": null,
      "outputs": []
    },
    {
      "cell_type": "code",
      "source": [
        "try:\n",
        "    import fitz\n",
        "    PDF_AVAILABLE = True\n",
        "    print(\"✓ PyMuPDF available\")\n",
        "except ImportError:\n",
        "    print(\"⚠ PyMuPDF not installed. Install with: pip install PyMuPDF\")\n",
        "    PDF_AVAILABLE = False\n",
        "\n",
        "try:\n",
        "    from bs4 import BeautifulSoup\n",
        "    BS4_AVAILABLE = True\n",
        "    print(\"✓ BeautifulSoup available\")\n",
        "except ImportError:\n",
        "    print(\"⚠ BeautifulSoup not installed. Install with: pip install beautifulsoup4\")\n",
        "    BS4_AVAILABLE = False"
      ],
      "metadata": {
        "colab": {
          "base_uri": "https://localhost:8080/"
        },
        "id": "P1zyzGbhMr6x",
        "outputId": "4835c0e0-cfbc-4ca5-8fb7-2516eda84512"
      },
      "execution_count": null,
      "outputs": [
        {
          "output_type": "stream",
          "name": "stdout",
          "text": [
            "⚠ PyMuPDF not installed. Install with: pip install PyMuPDF\n",
            "✓ BeautifulSoup available\n"
          ]
        }
      ]
    },
    {
      "cell_type": "code",
      "source": [
        "!pip install PyMuPDF\n"
      ],
      "metadata": {
        "colab": {
          "base_uri": "https://localhost:8080/"
        },
        "id": "2zvZ9DIQMuMU",
        "outputId": "fc91a8ee-4b23-4b07-fbfb-f76283dc79c5"
      },
      "execution_count": null,
      "outputs": [
        {
          "output_type": "stream",
          "name": "stdout",
          "text": [
            "Collecting PyMuPDF\n",
            "  Downloading pymupdf-1.26.3-cp39-abi3-manylinux_2_28_x86_64.whl.metadata (3.4 kB)\n",
            "Downloading pymupdf-1.26.3-cp39-abi3-manylinux_2_28_x86_64.whl (24.1 MB)\n",
            "\u001b[2K   \u001b[90m━━━━━━━━━━━━━━━━━━━━━━━━━━━━━━━━━━━━━━━━\u001b[0m \u001b[32m24.1/24.1 MB\u001b[0m \u001b[31m112.3 MB/s\u001b[0m eta \u001b[36m0:00:00\u001b[0m\n",
            "\u001b[?25hInstalling collected packages: PyMuPDF\n",
            "Successfully installed PyMuPDF-1.26.3\n"
          ]
        }
      ]
    },
    {
      "cell_type": "code",
      "source": [
        "import torch\n",
        "\n",
        "print(f\"CUDA available: {torch.cuda.is_available()}\")\n",
        "print(f\"GPU: {torch.cuda.get_device_name(0) if torch.cuda.is_available() else 'None'}\")"
      ],
      "metadata": {
        "colab": {
          "base_uri": "https://localhost:8080/"
        },
        "id": "6eqi0ncpMwRO",
        "outputId": "1fa78954-bf67-4983-d3c8-8fadfe0d3c07"
      },
      "execution_count": null,
      "outputs": [
        {
          "output_type": "stream",
          "name": "stdout",
          "text": [
            "CUDA available: True\n",
            "GPU: Tesla T4\n"
          ]
        }
      ]
    },
    {
      "cell_type": "markdown",
      "source": [
        "# DOCUMENT PROCESSING FUNCTIONS\n",
        "\n",
        "## Loading data ans exploration:"
      ],
      "metadata": {
        "id": "CvIZzMiLN6WI"
      }
    },
    {
      "cell_type": "code",
      "source": [
        "from google.colab import drive\n",
        "drive.mount('/content/drive')\n"
      ],
      "metadata": {
        "colab": {
          "base_uri": "https://localhost:8080/"
        },
        "id": "8xobS8VcQ1fD",
        "outputId": "8bdc2cbd-ab4f-40e9-c75c-fa9add60534d"
      },
      "execution_count": null,
      "outputs": [
        {
          "output_type": "stream",
          "name": "stdout",
          "text": [
            "Mounted at /content/drive\n"
          ]
        }
      ]
    },
    {
      "cell_type": "code",
      "source": [
        "#Loading fFile paths\n",
        "TRAIN_LABELS_PATH = '/content/drive/MyDrive/data/train_labels.csv'\n",
        "SAMPLE_SUBMISSION_PATH = '/content/drive/MyDrive/data/sample_submission.csv'\n",
        "TRAIN_PDF_PATH = '/content/drive/MyDrive/data/train/PDF'\n",
        "TRAIN_XML_PATH = '/content/drive/MyDrive/data/train/XML'\n",
        "TEST_PDF_PATH = '/content/drive/MyDrive/data/test/PDF'\n",
        "TEST_XML_PATH = '/content/drive/MyDrive/data/test/XML'"
      ],
      "metadata": {
        "id": "Rik--2ClOAzt"
      },
      "execution_count": null,
      "outputs": []
    },
    {
      "cell_type": "code",
      "source": [
        "#Model configurations\n",
        "MODEL_NAME = \"bert-base-uncased\"\n",
        "MAX_TEXT_LENGTH = 512\n",
        "BATCH_SIZE = 16"
      ],
      "metadata": {
        "id": "VTEvWBJCRUqH"
      },
      "execution_count": null,
      "outputs": []
    },
    {
      "cell_type": "code",
      "source": [
        "print(\"FILE COUNT SUMMARY:\")\n",
        "print(\"=\" * 30)"
      ],
      "metadata": {
        "colab": {
          "base_uri": "https://localhost:8080/"
        },
        "id": "XCm5RurURXwW",
        "outputId": "d51ca7f1-3581-4f41-d8a4-f6d45c793a37"
      },
      "execution_count": null,
      "outputs": [
        {
          "output_type": "stream",
          "name": "stdout",
          "text": [
            "FILE COUNT SUMMARY:\n",
            "==============================\n"
          ]
        }
      ]
    },
    {
      "cell_type": "code",
      "source": [
        "#Display configuration\n",
        "import torch\n",
        "\n",
        "#Setting device\n",
        "device = torch.device(\"cuda\" if torch.cuda.is_available() else \"cpu\")\n",
        "\n",
        "#Displaying configuration\n",
        "print(\"Configuration:\")\n",
        "print(f\"Model: {MODEL_NAME}\")\n",
        "print(f\"Max text length: {MAX_TEXT_LENGTH}\")\n",
        "print(f\"Batch size: {BATCH_SIZE}\")\n",
        "print(f\"Device: {device}\")\n"
      ],
      "metadata": {
        "colab": {
          "base_uri": "https://localhost:8080/"
        },
        "id": "ikxjHGEERadU",
        "outputId": "611de5db-f8d3-48cb-b4d0-529dcb4439a2"
      },
      "execution_count": null,
      "outputs": [
        {
          "output_type": "stream",
          "name": "stdout",
          "text": [
            "Configuration:\n",
            "Model: bert-base-uncased\n",
            "Max text length: 512\n",
            "Batch size: 16\n",
            "Device: cuda\n"
          ]
        }
      ]
    },
    {
      "cell_type": "code",
      "source": [
        "# Verify paths exist\n",
        "import os\n",
        "print(\"\\nPath verification:\")\n",
        "paths_to_check = [\n",
        "    (\"Train Labels\", TRAIN_LABELS_PATH),\n",
        "    (\"Sample Submission\", SAMPLE_SUBMISSION_PATH),\n",
        "    (\"Train PDF\", TRAIN_PDF_PATH),\n",
        "    (\"Train XML\", TRAIN_XML_PATH),\n",
        "    (\"Test PDF\", TEST_PDF_PATH),\n",
        "    (\"Test XML\", TEST_XML_PATH)\n",
        "]\n",
        "\n",
        "for name, path in paths_to_check:\n",
        "    exists = os.path.exists(path)\n",
        "    print(f\"{name}: {'✓' if exists else '✗'} {path}\")"
      ],
      "metadata": {
        "colab": {
          "base_uri": "https://localhost:8080/"
        },
        "id": "lZDrZirIReLE",
        "outputId": "c7d84357-4c16-433b-e47a-d2194e878476"
      },
      "execution_count": null,
      "outputs": [
        {
          "output_type": "stream",
          "name": "stdout",
          "text": [
            "\n",
            "Path verification:\n",
            "Train Labels: ✓ /content/drive/MyDrive/data/train_labels.csv\n",
            "Sample Submission: ✓ /content/drive/MyDrive/data/sample_submission.csv\n",
            "Train PDF: ✓ /content/drive/MyDrive/data/train/PDF\n",
            "Train XML: ✓ /content/drive/MyDrive/data/train/XML\n",
            "Test PDF: ✓ /content/drive/MyDrive/data/test/PDF\n",
            "Test XML: ✓ /content/drive/MyDrive/data/test/XML\n"
          ]
        }
      ]
    },
    {
      "cell_type": "markdown",
      "source": [
        "## DOCUMENT PROCESSING FUNCTIONS\n"
      ],
      "metadata": {
        "id": "Bpw_eryUSFl7"
      }
    },
    {
      "cell_type": "code",
      "source": [
        "def extract_text_from_pdf(pdf_path):\n",
        "    \"\"\"Extract text from PDF file using PyMuPDF\"\"\"\n",
        "    if not PDF_AVAILABLE:\n",
        "        return \"\"\n",
        "\n",
        "    try:\n",
        "        doc = fitz.open(pdf_path)\n",
        "        text = \"\"\n",
        "        for page in doc:\n",
        "            text += page.get_text()\n",
        "        doc.close()\n",
        "        return text\n",
        "    except Exception as e:\n",
        "        print(f\"Error processing PDF {pdf_path}: {e}\")\n",
        "        return \"\"\n",
        "\n",
        "def extract_text_from_xml(xml_path):\n",
        "    \"\"\"Extract text from XML file\"\"\"\n",
        "    try:\n",
        "        with open(xml_path, 'r', encoding='utf-8') as file:\n",
        "            content = file.read()\n",
        "\n",
        "        if BS4_AVAILABLE:\n",
        "            # Parse XML and extract text content\n",
        "            soup = BeautifulSoup(content, 'xml')\n",
        "\n",
        "            # Remove script and style elements\n",
        "            for script in soup([\"script\", \"style\"]):\n",
        "                script.decompose()\n",
        "\n",
        "            # Get text and clean it\n",
        "            text = soup.get_text()\n",
        "            lines = (line.strip() for line in text.splitlines())\n",
        "            chunks = (phrase.strip() for line in lines for phrase in line.split(\"  \"))\n",
        "            text = ' '.join(chunk for chunk in chunks if chunk)\n",
        "\n",
        "            return text\n",
        "        else:\n",
        "            # Fallback to simple text extraction\n",
        "            text = re.sub(r'<[^>]+>', ' ', content)\n",
        "            text = re.sub(r'\\s+', ' ', text)\n",
        "            return text.strip()\n",
        "\n",
        "    except Exception as e:\n",
        "        print(f\"Error processing XML {xml_path}: {e}\")\n",
        "        return \"\"\n",
        "\n",
        "def load_documents_from_folder(folder_path, doc_type='pdf'):\n",
        "    \"\"\"Load all documents from a folder\"\"\"\n",
        "    documents = []\n",
        "    folder = Path(folder_path)\n",
        "\n",
        "    if not folder.exists():\n",
        "        print(f\"Warning: Folder {folder_path} does not exist\")\n",
        "        return documents\n",
        "\n",
        "    if doc_type == 'pdf':\n",
        "        files = list(folder.glob('*.pdf'))\n",
        "        extract_func = extract_text_from_pdf\n",
        "    elif doc_type == 'xml':\n",
        "        files = list(folder.glob('*.xml'))\n",
        "        extract_func = extract_text_from_xml\n",
        "    else:\n",
        "        raise ValueError(\"doc_type must be 'pdf' or 'xml'\")\n",
        "\n",
        "    print(f\"Found {len(files)} {doc_type.upper()} files in {folder_path}\")\n",
        "\n",
        "    for i, file_path in enumerate(files):\n",
        "        if i % 10 == 0:  # Progress update every 10 files\n",
        "            print(f\"Processing: {i+1}/{len(files)} - {file_path.name}\")\n",
        "\n",
        "        text = extract_func(file_path)\n",
        "\n",
        "        documents.append({\n",
        "            'filename': file_path.name,\n",
        "            'file_path': str(file_path),\n",
        "            'text': text,\n",
        "            'doc_type': doc_type,\n",
        "            'text_length': len(text)\n",
        "        })\n",
        "\n",
        "    return documents\n",
        "\n",
        "print(\"Document processing functions loaded successfully!\")\n"
      ],
      "metadata": {
        "colab": {
          "base_uri": "https://localhost:8080/"
        },
        "id": "DPFaxTsoSLCp",
        "outputId": "4c1b29de-cf10-49ef-fab6-2b1d6ca6a51a"
      },
      "execution_count": null,
      "outputs": [
        {
          "output_type": "stream",
          "name": "stdout",
          "text": [
            "Document processing functions loaded successfully!\n"
          ]
        }
      ]
    },
    {
      "cell_type": "markdown",
      "source": [
        "## DATA REFERENCE DETECTION FUNCTIONS"
      ],
      "metadata": {
        "id": "LAterTr4SOaH"
      }
    },
    {
      "cell_type": "code",
      "source": [
        "def find_data_references(text):\n",
        "    \"\"\"Find potential data references in text using comprehensive regex patterns\"\"\"\n",
        "    if not text or pd.isna(text):\n",
        "        return {}, 0\n",
        "\n",
        "    patterns = {\n",
        "        'dataset_mentions': r'\\b(?:dataset|data set|database|repository|archive|databank|data\\s+collection)\\b',\n",
        "        'doi_references': r'\\b(?:doi|DOI):\\s*[0-9]+\\.[0-9]+/[^\\s]+',\n",
        "        'url_references': r'\\bhttps?://[^\\s]+(?:\\.gov|\\.edu|\\.org|\\.com)[^\\s]*',\n",
        "        'access_statements': r'\\b(?:available at|accessed from|downloaded from|obtained from|retrieved from)\\b',\n",
        "        'supplementary_data': r'\\b(?:supplementary|additional|supporting)\\s+(?:data|material|information|files?)\\b',\n",
        "        'data_repositories': r'\\b(?:NCBI|GenBank|PDB|UniProt|GEO|ArrayExpress|Dryad|Figshare|Zenodo|GitHub|GitLab)\\b',\n",
        "        'data_formats': r'\\b(?:\\.csv|\\.xlsx?|\\.json|\\.xml|\\.sql|\\.db|\\.rds|\\.mat|\\.h5|\\.hdf5)\\b',\n",
        "        'data_availability': r'\\b(?:data\\s+(?:is|are)\\s+available|publicly\\s+available|open\\s+data|data\\s+sharing)\\b'\n",
        "    }\n",
        "\n",
        "    references = {}\n",
        "    total_count = 0\n",
        "\n",
        "    for pattern_name, pattern in patterns.items():\n",
        "        matches = re.findall(pattern, text, re.IGNORECASE)\n",
        "        references[pattern_name] = matches\n",
        "        total_count += len(matches)\n",
        "\n",
        "    return references, total_count\n",
        "\n",
        "def extract_advanced_features(df):\n",
        "    \"\"\"Extract advanced features for data reference detection\"\"\"\n",
        "    print(\"Extracting advanced features...\")\n",
        "\n",
        "    # Basic text statistics\n",
        "    df['text_length'] = df['text'].str.len()\n",
        "    df['word_count'] = df['text'].str.split().str.len()\n",
        "    df['avg_word_length'] = df['text'].apply(\n",
        "        lambda x: np.mean([len(word) for word in str(x).split()]) if str(x).split() else 0\n",
        "    )\n",
        "\n",
        "    # Data reference analysis\n",
        "    print(\"Analyzing data references...\")\n",
        "    reference_data = df['text'].apply(find_data_references)\n",
        "    df['data_references'] = reference_data.apply(lambda x: x[0])\n",
        "    df['num_references'] = reference_data.apply(lambda x: x[1])\n",
        "\n",
        "    # Specific pattern counts\n",
        "    df['dataset_mentions'] = df['data_references'].apply(lambda x: len(x.get('dataset_mentions', [])))\n",
        "    df['doi_count'] = df['data_references'].apply(lambda x: len(x.get('doi_references', [])))\n",
        "    df['url_count'] = df['data_references'].apply(lambda x: len(x.get('url_references', [])))\n",
        "    df['repository_mentions'] = df['data_references'].apply(lambda x: len(x.get('data_repositories', [])))\n",
        "\n",
        "    # Binary features\n",
        "    df['has_data_references'] = df['num_references'] > 0\n",
        "    df['has_doi'] = df['doi_count'] > 0\n",
        "    df['has_url'] = df['url_count'] > 0\n",
        "    df['has_repository'] = df['repository_mentions'] > 0\n",
        "\n",
        "    # Document type features\n",
        "    df['is_pdf'] = df['doc_type'] == 'pdf'\n",
        "    df['is_xml'] = df['doc_type'] == 'xml'\n",
        "\n",
        "    print(\"Feature extraction completed!\")\n",
        "    return df\n",
        "\n",
        "print(\"Data reference detection functions loaded successfully!\")"
      ],
      "metadata": {
        "colab": {
          "base_uri": "https://localhost:8080/"
        },
        "id": "TnPzD_mKSLWB",
        "outputId": "af864e5e-eb67-4fe6-e2bb-522d8bb149b4"
      },
      "execution_count": null,
      "outputs": [
        {
          "output_type": "stream",
          "name": "stdout",
          "text": [
            "Data reference detection functions loaded successfully!\n"
          ]
        }
      ]
    },
    {
      "cell_type": "code",
      "source": [
        "!pip install pymupdf beautifulsoup4 lxml\n"
      ],
      "metadata": {
        "colab": {
          "base_uri": "https://localhost:8080/"
        },
        "id": "sDZ_Au0nTfY-",
        "outputId": "88e25d94-2daa-440b-9490-ee5399a84bc7"
      },
      "execution_count": null,
      "outputs": [
        {
          "output_type": "stream",
          "name": "stdout",
          "text": [
            "Collecting pymupdf\n",
            "  Downloading pymupdf-1.26.3-cp39-abi3-manylinux_2_28_x86_64.whl.metadata (3.4 kB)\n",
            "Requirement already satisfied: beautifulsoup4 in /usr/local/lib/python3.11/dist-packages (4.13.4)\n",
            "Requirement already satisfied: lxml in /usr/local/lib/python3.11/dist-packages (5.4.0)\n",
            "Requirement already satisfied: soupsieve>1.2 in /usr/local/lib/python3.11/dist-packages (from beautifulsoup4) (2.7)\n",
            "Requirement already satisfied: typing-extensions>=4.0.0 in /usr/local/lib/python3.11/dist-packages (from beautifulsoup4) (4.14.1)\n",
            "Downloading pymupdf-1.26.3-cp39-abi3-manylinux_2_28_x86_64.whl (24.1 MB)\n",
            "\u001b[2K   \u001b[90m━━━━━━━━━━━━━━━━━━━━━━━━━━━━━━━━━━━━━━━━\u001b[0m \u001b[32m24.1/24.1 MB\u001b[0m \u001b[31m88.1 MB/s\u001b[0m eta \u001b[36m0:00:00\u001b[0m\n",
            "\u001b[?25hInstalling collected packages: pymupdf\n",
            "Successfully installed pymupdf-1.26.3\n"
          ]
        }
      ]
    },
    {
      "cell_type": "code",
      "source": [
        "import os\n",
        "import pandas as pd\n",
        "from pathlib import Path\n",
        "import fitz  # PyMuPDF\n",
        "from bs4 import BeautifulSoup\n",
        "\n",
        "# Define paths (adjust as needed)\n",
        "TRAIN_LABELS_PATH = '/content/drive/MyDrive/data/train_labels.csv'\n",
        "SAMPLE_SUBMISSION_PATH = '/content/drive/MyDrive/data/sample_submission.csv'\n",
        "TRAIN_PDF_PATH = '/content/drive/MyDrive/data/train/PDF'\n",
        "TRAIN_XML_PATH = '/content/drive/MyDrive/data/train/XML'\n",
        "TEST_PDF_PATH = '/content/drive/MyDrive/data/test/PDF'\n",
        "TEST_XML_PATH = '/content/drive/MyDrive/data/test/XML'\n",
        "\n",
        "\n",
        "def parse_pdf(file_path):\n",
        "    try:\n",
        "        with fitz.open(file_path) as doc:\n",
        "            text = \" \".join(page.get_text() for page in doc)\n",
        "        return text\n",
        "    except Exception as e:\n",
        "        print(f\"Error reading PDF {file_path}: {e}\")\n",
        "        return None\n",
        "\n",
        "\n",
        "def parse_xml(file_path):\n",
        "    try:\n",
        "        with open(file_path, 'r', encoding='utf-8') as f:\n",
        "            soup = BeautifulSoup(f, 'lxml')  # fallback if 'xml' not found\n",
        "            return soup.get_text(separator=' ', strip=True)\n",
        "    except Exception as e:\n",
        "        print(f\"Error processing XML {file_path}: {e}\")\n",
        "        return None\n",
        "\n",
        "\n",
        "def load_documents_from_folder(folder_path, doc_type):\n",
        "    \"\"\"\n",
        "    Load and parse documents from folder (pdf or xml).\n",
        "    Returns a list of dicts with fields: filename, file_path, text, doc_type, text_length\n",
        "    \"\"\"\n",
        "    documents = []\n",
        "    folder = Path(folder_path)\n",
        "\n",
        "    if not folder.exists():\n",
        "        print(f\"⚠️ Folder not found: {folder_path}\")\n",
        "        return documents\n",
        "\n",
        "    for file in folder.glob(f'*.{doc_type}'):\n",
        "        if doc_type == 'pdf':\n",
        "            text = parse_pdf(file)\n",
        "        elif doc_type == 'xml':\n",
        "            text = parse_xml(file)\n",
        "        else:\n",
        "            continue\n",
        "\n",
        "        if text is not None:\n",
        "            documents.append({\n",
        "                'filename': file.stem,\n",
        "                'file_path': str(file),\n",
        "                'text': text,\n",
        "                'doc_type': doc_type,\n",
        "                'text_length': len(text)\n",
        "            })\n",
        "\n",
        "    print(f\"Loaded {len(documents)} {doc_type.upper()} documents from {folder_path}\")\n",
        "    return documents\n",
        "\n",
        "\n",
        "def load_all_data():\n",
        "    \"\"\"Load all training and test data\"\"\"\n",
        "    print(\"Loading all documents...\")\n",
        "\n",
        "    # Load training documents\n",
        "    print(\"\\n--- Loading Training Documents ---\")\n",
        "    train_pdf_docs = load_documents_from_folder(TRAIN_PDF_PATH, 'pdf')\n",
        "    train_xml_docs = load_documents_from_folder(TRAIN_XML_PATH, 'xml')\n",
        "    train_documents = train_pdf_docs + train_xml_docs\n",
        "\n",
        "    # Load test documents\n",
        "    print(\"\\n--- Loading Test Documents ---\")\n",
        "    test_pdf_docs = load_documents_from_folder(TEST_PDF_PATH, 'pdf')\n",
        "    test_xml_docs = load_documents_from_folder(TEST_XML_PATH, 'xml')\n",
        "    test_documents = test_pdf_docs + test_xml_docs\n",
        "\n",
        "    # Convert to DataFrames\n",
        "    train_df = pd.DataFrame(train_documents)\n",
        "    test_df = pd.DataFrame(test_documents)\n",
        "\n",
        "    print(f\"\\nData loaded successfully!\")\n",
        "    print(f\"Train documents: {len(train_df)}\")\n",
        "    print(f\"Test documents: {len(test_df)}\")\n",
        "\n",
        "    print(\"\\nTrain DataFrame columns:\", train_df.columns.tolist())\n",
        "\n",
        "    # Load labels\n",
        "    if os.path.exists(TRAIN_LABELS_PATH):\n",
        "        labels_df = pd.read_csv(TRAIN_LABELS_PATH)\n",
        "        print(f\"\\nLabels loaded: {len(labels_df)} entries\")\n",
        "        print(f\"Label columns: {labels_df.columns.tolist()}\")\n",
        "\n",
        "        print(\"\\nFirst 5 rows of labels:\")\n",
        "        print(labels_df.head())\n",
        "\n",
        "        if 'filename' not in labels_df.columns and 'article_id' in labels_df.columns:\n",
        "            labels_df.rename(columns={'article_id': 'filename'}, inplace=True)\n",
        "            print(\"\\nRenamed 'article_id' to 'filename' in labels.\")\n",
        "\n",
        "        if 'filename' in train_df.columns:\n",
        "            train_df['filename'] = train_df['filename'].str.replace('.pdf', '', regex=False)\n",
        "\n",
        "        train_df = train_df.merge(labels_df, on='filename', how='left')\n",
        "        print(f\"\\nMerged train data: {len(train_df)} entries\")\n",
        "\n",
        "        if train_df.isnull().any().any():\n",
        "            print(\"⚠️ Warning: Some training documents don't have labels\")\n",
        "    else:\n",
        "        print(\"⚠️ No labels file found!\")\n",
        "\n",
        "    # Load sample submission\n",
        "    if os.path.exists(SAMPLE_SUBMISSION_PATH):\n",
        "        sample_submission = pd.read_csv(SAMPLE_SUBMISSION_PATH)\n",
        "        print(f\"\\nSample submission format: {sample_submission.shape}\")\n",
        "        print(\"Sample submission columns:\", sample_submission.columns.tolist())\n",
        "        print(\"First 5 rows:\")\n",
        "        print(sample_submission.head())\n",
        "\n",
        "    return train_df, test_df\n",
        "\n",
        "\n",
        "# 🚀 Load all\n",
        "train_df, test_df = load_all_data()\n"
      ],
      "metadata": {
        "colab": {
          "base_uri": "https://localhost:8080/"
        },
        "id": "x3OEYCNcSRM2",
        "outputId": "81302aaa-4f38-4375-d688-d0e6f0322888"
      },
      "execution_count": null,
      "outputs": [
        {
          "output_type": "stream",
          "name": "stdout",
          "text": [
            "Loading all documents...\n",
            "\n",
            "--- Loading Training Documents ---\n",
            "MuPDF error: unsupported error: cannot create appearance stream for  annotations\n",
            "\n",
            "MuPDF error: unsupported error: cannot create appearance stream for  annotations\n",
            "\n",
            "MuPDF error: unsupported error: cannot create appearance stream for  annotations\n",
            "\n",
            "MuPDF error: unsupported error: cannot create appearance stream for  annotations\n",
            "\n",
            "MuPDF error: unsupported error: cannot create appearance stream for  annotations\n",
            "\n",
            "MuPDF error: unsupported error: cannot create appearance stream for  annotations\n",
            "\n",
            "MuPDF error: unsupported error: cannot create appearance stream for  annotations\n",
            "\n",
            "MuPDF error: unsupported error: cannot create appearance stream for  annotations\n",
            "\n",
            "MuPDF error: unsupported error: cannot create appearance stream for  annotations\n",
            "\n",
            "MuPDF error: unsupported error: cannot create appearance stream for  annotations\n",
            "\n",
            "MuPDF error: unsupported error: cannot create appearance stream for  annotations\n",
            "\n",
            "MuPDF error: unsupported error: cannot create appearance stream for  annotations\n",
            "\n",
            "MuPDF error: unsupported error: cannot create appearance stream for  annotations\n",
            "\n",
            "MuPDF error: unsupported error: cannot create appearance stream for  annotations\n",
            "\n",
            "MuPDF error: unsupported error: cannot create appearance stream for  annotations\n",
            "\n",
            "MuPDF error: unsupported error: cannot create appearance stream for  annotations\n",
            "\n",
            "MuPDF error: unsupported error: cannot create appearance stream for  annotations\n",
            "\n",
            "MuPDF error: unsupported error: cannot create appearance stream for  annotations\n",
            "\n",
            "Loaded 524 PDF documents from /content/drive/MyDrive/data/train/PDF\n"
          ]
        },
        {
          "output_type": "stream",
          "name": "stderr",
          "text": [
            "/tmp/ipython-input-24-837925106.py:29: XMLParsedAsHTMLWarning: It looks like you're using an HTML parser to parse an XML document.\n",
            "\n",
            "Assuming this really is an XML document, what you're doing might work, but you should know that using an XML parser will be more reliable. To parse this document as XML, make sure you have the Python package 'lxml' installed, and pass the keyword argument `features=\"xml\"` into the BeautifulSoup constructor.\n",
            "\n",
            "If you want or need to use an HTML parser on this document, you can make this warning go away by filtering it. To do that, run this code before calling the BeautifulSoup constructor:\n",
            "\n",
            "    from bs4 import XMLParsedAsHTMLWarning\n",
            "    import warnings\n",
            "\n",
            "    warnings.filterwarnings(\"ignore\", category=XMLParsedAsHTMLWarning)\n",
            "\n",
            "  soup = BeautifulSoup(f, 'lxml')  # fallback if 'xml' not found\n"
          ]
        },
        {
          "output_type": "stream",
          "name": "stdout",
          "text": [
            "Loaded 419 XML documents from /content/drive/MyDrive/data/train/XML\n",
            "\n",
            "--- Loading Test Documents ---\n",
            "Loaded 30 PDF documents from /content/drive/MyDrive/data/test/PDF\n",
            "Loaded 25 XML documents from /content/drive/MyDrive/data/test/XML\n",
            "\n",
            "Data loaded successfully!\n",
            "Train documents: 943\n",
            "Test documents: 55\n",
            "\n",
            "Train DataFrame columns: ['filename', 'file_path', 'text', 'doc_type', 'text_length']\n",
            "\n",
            "Labels loaded: 1066 entries\n",
            "Label columns: ['article_id', 'dataset_id', 'type']\n",
            "\n",
            "First 5 rows of labels:\n",
            "               article_id                                 dataset_id     type\n",
            "0    10.1002_2017jc013030             https://doi.org/10.17882/49388  Primary\n",
            "1  10.1002_anie.201916483  https://doi.org/10.5517/ccdc.csd.cc1npvt0  Missing\n",
            "2  10.1002_anie.202005531  https://doi.org/10.5517/ccdc.csd.cc24wxqp  Missing\n",
            "3  10.1002_anie.202007717  https://doi.org/10.5517/ccdc.csd.cc24rrb0  Missing\n",
            "4  10.1002_chem.201902131  https://doi.org/10.5517/ccdc.csd.cc221dk3  Missing\n",
            "\n",
            "Renamed 'article_id' to 'filename' in labels.\n",
            "\n",
            "Merged train data: 1989 entries\n",
            "⚠️ Warning: Some training documents don't have labels\n",
            "\n",
            "Sample submission format: (14, 4)\n",
            "Sample submission columns: ['row_id', 'article_id', 'dataset_id', 'type']\n",
            "First 5 rows:\n",
            "   row_id              article_id                               dataset_id  \\\n",
            "0       0    10.1002_2017jc013030           https://doi.org/10.17882/49388   \n",
            "1       1  10.1002_cssc.202201821   https://doi.org/10.5281/zenodo.7074790   \n",
            "2       2       10.1002_ece3.4466    https://doi.org/10.5061/dryad.r6nq870   \n",
            "3       3       10.1002_ece3.5260    https://doi.org/10.5061/dryad.2f62927   \n",
            "4       4       10.1002_ece3.6144  https://doi.org/10.5061/dryad.zw3r22854   \n",
            "\n",
            "      type  \n",
            "0  Primary  \n",
            "1  Primary  \n",
            "2  Primary  \n",
            "3  Primary  \n",
            "4  Primary  \n"
          ]
        }
      ]
    },
    {
      "cell_type": "markdown",
      "source": [
        "## Feature Extraction"
      ],
      "metadata": {
        "id": "HXlXQfq-TDnf"
      }
    },
    {
      "cell_type": "code",
      "source": [
        "import numpy as np\n",
        "import re\n",
        "\n",
        "# === Feature Extraction ===\n",
        "def extract_advanced_features(df, text_col=\"text\"):\n",
        "    print(\"Extracting advanced features...\")\n",
        "\n",
        "    # Check if DataFrame is empty\n",
        "    if df.empty:\n",
        "        raise ValueError(\"DataFrame is empty. Cannot extract features.\")\n",
        "\n",
        "    # Check if the column exists\n",
        "    if text_col not in df.columns:\n",
        "        raise KeyError(f\"Column '{text_col}' not found in DataFrame. Available columns: {list(df.columns)}\")\n",
        "\n",
        "    # Feature extraction\n",
        "    df['text_length'] = df[text_col].str.len()\n",
        "    df['word_count'] = df[text_col].str.split().str.len()\n",
        "    df['avg_word_length'] = df[text_col].apply(\n",
        "        lambda x: np.mean([len(word) for word in str(x).split()]) if str(x).split() else 0\n",
        "    )\n",
        "\n",
        "    df['num_references'] = df[text_col].str.count(r'\\[.*?\\]')\n",
        "    df['dataset_mentions'] = df[text_col].str.count(r'dataset|data set|corpus', flags=re.IGNORECASE)\n",
        "    df['doi_count'] = df[text_col].str.count(r'\\b10\\.\\d{4,9}/[-._;()/:A-Z0-9]+\\b', flags=re.IGNORECASE)\n",
        "    df['url_count'] = df[text_col].str.count(r'http[s]?://\\S+')\n",
        "    df['repository_mentions'] = df[text_col].str.count(r'github|gitlab|bitbucket', flags=re.IGNORECASE)\n",
        "    df['has_data_references'] = (df['num_references'] + df['dataset_mentions'] + df['repository_mentions']) > 0\n",
        "\n",
        "    return df\n",
        "\n",
        "\n",
        "# === Auto-detect best text column ===\n",
        "def detect_text_column(df):\n",
        "    if df.empty:\n",
        "        raise ValueError(\"DataFrame is empty. No columns to inspect.\")\n",
        "    for col in df.columns:\n",
        "        if df[col].dtype == \"object\" and df[col].str.len().mean() > 20:\n",
        "            return col\n",
        "    raise ValueError(\"No suitable text column found in the DataFrame.\")\n",
        "\n",
        "\n",
        "# === TRAIN ===\n",
        "print(\"Extracting features from training data...\")\n",
        "print(\"Checking train_df:\")\n",
        "print(train_df.head())\n",
        "print(\"train_df columns:\", train_df.columns)\n",
        "print(\"train_df shape:\", train_df.shape)\n",
        "\n",
        "TEXT_COLUMN = detect_text_column(train_df)\n",
        "train_df = extract_advanced_features(train_df, text_col=TEXT_COLUMN)\n",
        "\n",
        "\n",
        "# === TEST ===\n",
        "print(\"\\nExtracting features from test data...\")\n",
        "print(\"Checking test_df:\")\n",
        "print(test_df.head())\n",
        "print(\"test_df columns:\", test_df.columns)\n",
        "print(\"test_df shape:\", test_df.shape)\n",
        "\n",
        "TEXT_COLUMN = detect_text_column(test_df)\n",
        "test_df = extract_advanced_features(test_df, text_col=TEXT_COLUMN)\n",
        "\n",
        "\n",
        "# === SUMMARY ===\n",
        "print(\"\\n=== FEATURE SUMMARY ===\")\n",
        "feature_columns = [\n",
        "    'text_length', 'word_count', 'num_references', 'dataset_mentions',\n",
        "    'doi_count', 'url_count', 'repository_mentions'\n",
        "]\n",
        "\n",
        "print(\"Training data features:\")\n",
        "for col in feature_columns:\n",
        "    if col in train_df.columns:\n",
        "        print(f\"{col}: mean={train_df[col].mean():.2f}, std={train_df[col].std():.2f}\")\n",
        "\n",
        "print(f\"\\nDocuments with data references: {train_df['has_data_references'].sum()}\")\n",
        "print(f\"Percentage with references: {train_df['has_data_references'].mean():.2%}\")\n"
      ],
      "metadata": {
        "colab": {
          "base_uri": "https://localhost:8080/"
        },
        "id": "b1l-WBDmST3G",
        "outputId": "f8bc12cc-d91c-4eaf-ff87-89303511a22a"
      },
      "execution_count": null,
      "outputs": [
        {
          "output_type": "stream",
          "name": "stdout",
          "text": [
            "Extracting features from training data...\n",
            "Checking train_df:\n",
            "                 filename                                          file_path  \\\n",
            "0  10.1002_chem.201903120  /content/drive/MyDrive/data/train/PDF/10.1002_...   \n",
            "1  10.1002_chem.202000235  /content/drive/MyDrive/data/train/PDF/10.1002_...   \n",
            "2       10.1002_ece3.6784  /content/drive/MyDrive/data/train/PDF/10.1002_...   \n",
            "3       10.1002_ece3.6784  /content/drive/MyDrive/data/train/PDF/10.1002_...   \n",
            "4       10.1002_ece3.6784  /content/drive/MyDrive/data/train/PDF/10.1002_...   \n",
            "\n",
            "                                                text doc_type  text_length  \\\n",
            "0  & Dioxane Method |Hot Paper|\\nStructure–Solubi...      pdf           22   \n",
            "1  & Silylenes |Hot Paper|\\nAn Isolable Bis(Silan...      pdf           22   \n",
            "2  Ecology and Evolution. 2020;10:11467–11487.\\t\\...      pdf           17   \n",
            "3  Ecology and Evolution. 2020;10:11467–11487.\\t\\...      pdf           17   \n",
            "4  Ecology and Evolution. 2020;10:11467–11487.\\t\\...      pdf           17   \n",
            "\n",
            "                                  dataset_id     type  word_count  \n",
            "0  https://doi.org/10.5517/ccdc.csd.cc22c4yk  Missing           1  \n",
            "1  https://doi.org/10.5517/ccdc.csd.cc24cjxz  Missing           1  \n",
            "2       https://doi.org/10.25592/uhhfdm.1152  Missing           1  \n",
            "3       https://doi.org/10.25592/uhhfdm.1173  Missing           1  \n",
            "4       https://doi.org/10.25592/uhhfdm.1241  Missing           1  \n",
            "train_df columns: Index(['filename', 'file_path', 'text', 'doc_type', 'text_length',\n",
            "       'dataset_id', 'type', 'word_count'],\n",
            "      dtype='object')\n",
            "train_df shape: (1989, 8)\n",
            "Extracting advanced features...\n",
            "\n",
            "Extracting features from test data...\n",
            "Checking test_df:\n",
            "                 filename                                          file_path  \\\n",
            "0       10.1002_ece3.6303  /content/drive/MyDrive/data/test/PDF/10.1002_e...   \n",
            "1  10.1002_chem.201902131  /content/drive/MyDrive/data/test/PDF/10.1002_c...   \n",
            "2  10.1002_chem.202001412  /content/drive/MyDrive/data/test/PDF/10.1002_c...   \n",
            "3       10.1002_ece3.3985  /content/drive/MyDrive/data/test/PDF/10.1002_e...   \n",
            "4  10.1002_anie.201916483  /content/drive/MyDrive/data/test/PDF/10.1002_a...   \n",
            "\n",
            "                                                text doc_type  text_length  \n",
            "0  Ecology and Evolution. 2020;10:5617–5630.\\t\\n﻿...      pdf        76975  \n",
            "1  & Nitrogen Heterocycles\\nA Synthetic Route Tow...      pdf        50870  \n",
            "2  & Synthetic Methods\\nIron(0)-Mediated Stereose...      pdf        22952  \n",
            "3  Ecology and Evolution. 2018;8:4525–4533. \\n﻿\b\\...      pdf        49172  \n",
            "4  German Edition:\\nDOI: 10.1002/ange.201916483\\n...      pdf        39387  \n",
            "test_df columns: Index(['filename', 'file_path', 'text', 'doc_type', 'text_length'], dtype='object')\n",
            "test_df shape: (55, 5)\n",
            "Extracting advanced features...\n",
            "\n",
            "=== FEATURE SUMMARY ===\n",
            "Training data features:\n",
            "text_length: mean=23.79, std=4.11\n",
            "word_count: mean=1.01, std=0.10\n",
            "num_references: mean=0.00, std=0.00\n",
            "dataset_mentions: mean=0.00, std=0.00\n",
            "doi_count: mean=0.00, std=0.00\n",
            "url_count: mean=0.00, std=0.00\n",
            "repository_mentions: mean=0.00, std=0.00\n",
            "\n",
            "Documents with data references: 0\n",
            "Percentage with references: 0.00%\n"
          ]
        }
      ]
    },
    {
      "cell_type": "markdown",
      "source": [
        "## EXPLORATORY DATA ANALYSIS"
      ],
      "metadata": {
        "id": "_SpnZFTaVzXp"
      }
    },
    {
      "cell_type": "code",
      "source": [
        "import matplotlib.pyplot as plt\n",
        "import seaborn as sns\n",
        "import pandas as pd\n",
        "import numpy as np\n",
        "\n",
        "def perform_eda(train_df, test_df):\n",
        "    \"\"\"Perform exploratory data analysis\"\"\"\n",
        "    print(\"=== EXPLORATORY DATA ANALYSIS ===\")\n",
        "\n",
        "    # Basic statistics\n",
        "    print(f\"Training documents: {len(train_df)}\")\n",
        "    print(f\"Test documents: {len(test_df)}\")\n",
        "\n",
        "    # Text length statistics\n",
        "    print(f\"\\nText length statistics:\")\n",
        "    print(f\"Train - Mean: {train_df['text_length'].mean():.0f}, Median: {train_df['text_length'].median():.0f}\")\n",
        "    print(f\"Test - Mean: {test_df['text_length'].mean():.0f}, Median: {test_df['text_length'].median():.0f}\")\n",
        "\n",
        "    # Create visualizations\n",
        "    plt.figure(figsize=(20, 15))\n",
        "\n",
        "    # Text length distribution\n",
        "    plt.subplot(3, 4, 1)\n",
        "    plt.hist(train_df['text_length'], bins=50, alpha=0.7, label='Train', density=True)\n",
        "    plt.hist(test_df['text_length'], bins=50, alpha=0.7, label='Test', density=True)\n",
        "    plt.title('Document Length Distribution')\n",
        "    plt.xlabel('Characters')\n",
        "    plt.ylabel('Density')\n",
        "    plt.legend()\n",
        "    plt.yscale('log')\n",
        "\n",
        "    # Word count distribution\n",
        "    plt.subplot(3, 4, 2)\n",
        "    plt.hist(train_df['word_count'], bins=50, alpha=0.7, label='Train', density=True)\n",
        "    plt.hist(test_df['word_count'], bins=50, alpha=0.7, label='Test', density=True)\n",
        "    plt.title('Word Count Distribution')\n",
        "    plt.xlabel('Words')\n",
        "    plt.ylabel('Density')\n",
        "    plt.legend()\n",
        "\n",
        "    # Doc type distribution (Train)\n",
        "    plt.subplot(3, 4, 3)\n",
        "    train_df['doc_type'].value_counts().plot(kind='bar')\n",
        "    plt.title('Document Types (Train)')\n",
        "    plt.xticks(rotation=45)\n",
        "\n",
        "    # Doc type distribution (Test)\n",
        "    plt.subplot(3, 4, 4)\n",
        "    test_df['doc_type'].value_counts().plot(kind='bar')\n",
        "    plt.title('Document Types (Test)')\n",
        "    plt.xticks(rotation=45)\n",
        "\n",
        "    # Reference count distribution (Train)\n",
        "    plt.subplot(3, 4, 5)\n",
        "    plt.hist(train_df['num_references'], bins=50, alpha=0.7)\n",
        "    plt.title('Data References Count (Train)')\n",
        "    plt.xlabel('Number of References')\n",
        "    plt.ylabel('Frequency')\n",
        "\n",
        "    # Reference count distribution (Test)\n",
        "    plt.subplot(3, 4, 6)\n",
        "    plt.hist(test_df['num_references'], bins=50, alpha=0.7)\n",
        "    plt.title('Data References Count (Test)')\n",
        "    plt.xlabel('Number of References')\n",
        "    plt.ylabel('Frequency')\n",
        "\n",
        "    # References by doc_type\n",
        "    plt.subplot(3, 4, 7)\n",
        "    train_df.groupby('doc_type')['num_references'].mean().plot(kind='bar')\n",
        "    plt.title('Avg References by Doc Type (Train)')\n",
        "    plt.xticks(rotation=45)\n",
        "\n",
        "    # Feature correlation heatmap\n",
        "    plt.subplot(3, 4, 8)\n",
        "    feature_cols = ['text_length', 'word_count', 'num_references', 'doi_count', 'url_count']\n",
        "    available_cols = [col for col in feature_cols if col in train_df.columns]\n",
        "\n",
        "    if available_cols:\n",
        "        corr_matrix = train_df[available_cols].corr()\n",
        "        sns.heatmap(corr_matrix, annot=True, cmap='coolwarm', center=0)\n",
        "        plt.title('Feature Correlation Matrix')\n",
        "\n",
        "    # Distribution of specific reference types\n",
        "    plt.subplot(3, 4, 9)\n",
        "    ref_types = ['dataset_mentions', 'doi_count', 'url_count', 'repository_mentions']\n",
        "    ref_counts = [train_df[col].sum() for col in ref_types if col in train_df.columns]\n",
        "    ref_labels = [col.replace('_', ' ').title() for col in ref_types if col in train_df.columns]\n",
        "\n",
        "    plt.bar(ref_labels, ref_counts)\n",
        "    plt.title('Reference Types Distribution')\n",
        "    plt.xticks(rotation=45)\n",
        "\n",
        "    # Documents with references (binary flags)\n",
        "    plt.subplot(3, 4, 10)\n",
        "    # Check if these binary flags exist\n",
        "    binary_cols = ['has_doi', 'has_url', 'has_repository']\n",
        "    # If not, auto-generate them (optional fallback)\n",
        "    for col in binary_cols:\n",
        "        if col not in train_df.columns:\n",
        "            if 'doi' in col:\n",
        "                train_df[col] = train_df['doi_count'] > 0\n",
        "            elif 'url' in col:\n",
        "                train_df[col] = train_df['url_count'] > 0\n",
        "            elif 'repository' in col:\n",
        "                train_df[col] = train_df['repository_mentions'] > 0\n",
        "\n",
        "    binary_counts = [train_df[col].sum() for col in binary_cols if col in train_df.columns]\n",
        "    binary_labels = [col.replace('has_', '').replace('_', ' ').title() for col in binary_cols if col in train_df.columns]\n",
        "\n",
        "    plt.bar(binary_labels, binary_counts)\n",
        "    plt.title('Documents with Reference Types')\n",
        "    plt.xticks(rotation=45)\n",
        "\n",
        "    plt.tight_layout()\n",
        "    plt.show()\n",
        "\n",
        "    return train_df, test_df\n",
        "\n",
        "# 🔁 Call the function\n",
        "train_df, test_df = perform_eda(train_df, test_df)\n"
      ],
      "metadata": {
        "colab": {
          "base_uri": "https://localhost:8080/",
          "height": 849
        },
        "id": "YLxgKeanTH6Z",
        "outputId": "0c4eaf96-7369-43fa-b8c5-6c22c217dbf7"
      },
      "execution_count": null,
      "outputs": [
        {
          "output_type": "stream",
          "name": "stdout",
          "text": [
            "=== EXPLORATORY DATA ANALYSIS ===\n",
            "Training documents: 1989\n",
            "Test documents: 55\n",
            "\n",
            "Text length statistics:\n",
            "Train - Mean: 24, Median: 25\n",
            "Test - Mean: 60, Median: 61\n"
          ]
        },
        {
          "output_type": "display_data",
          "data": {
            "text/plain": [
              "<Figure size 2000x1500 with 11 Axes>"
            ],
            "image/png": "[encoded data removed]"
          },
          "metadata": {}
        }
      ]
    },
    {
      "cell_type": "code",
      "source": [
        "#MODEL CLASSES AND UTILITIES\n",
        "class TextDataset(torch.utils.data.Dataset):\n",
        "    \"\"\"Dataset class for BERT training\"\"\"\n",
        "    def __init__(self, encodings, labels=None):\n",
        "        self.encodings = encodings\n",
        "        self.labels = labels\n",
        "\n",
        "    def __getitem__(self, idx):\n",
        "        item = {key: torch.tensor(val[idx]) for key, val in self.encodings.items()}\n",
        "        if self.labels is not None:\n",
        "            item['labels'] = torch.tensor(self.labels.iloc[idx] if hasattr(self.labels, 'iloc') else self.labels[idx])\n",
        "        return item\n",
        "\n",
        "    def __len__(self):\n",
        "        return len(self.encodings.input_ids)\n",
        "\n",
        "class DataReferenceClassifier:\n",
        "    \"\"\"Main classifier class supporting both BERT and traditional ML\"\"\"\n",
        "    def __init__(self, model_type='bert'):\n",
        "        self.model_type = model_type\n",
        "        self.tokenizer = None\n",
        "        self.model = None\n",
        "        self.tfidf_vectorizer = None\n",
        "        self.traditional_model = None\n",
        "\n",
        "    def prepare_bert_model(self, num_labels=2):\n",
        "        \"\"\"Prepare BERT model for classification\"\"\"\n",
        "        print(\"Preparing BERT model...\")\n",
        "        self.tokenizer = AutoTokenizer.from_pretrained(MODEL_NAME)\n",
        "        self.model = AutoModelForSequenceClassification.from_pretrained(\n",
        "            MODEL_NAME,\n",
        "            num_labels=num_labels\n",
        "        )\n",
        "        self.model.to(device)\n",
        "        print(\"BERT model prepared successfully!\")\n",
        "\n",
        "    def prepare_traditional_model(self):\n",
        "        \"\"\"Prepare traditional ML model\"\"\"\n",
        "        print(\"Preparing traditional ML model...\")\n",
        "        self.tfidf_vectorizer = TfidfVectorizer(\n",
        "            max_features=10000,\n",
        "            stop_words='english',\n",
        "            ngram_range=(1, 3),\n",
        "            max_df=0.95,\n",
        "            min_df=2\n",
        "        )\n",
        "        self.traditional_model = RandomForestClassifier(\n",
        "            n_estimators=100,\n",
        "            random_state=42,\n",
        "            n_jobs=-1\n",
        "        )\n",
        "        print(\"Traditional ML model prepared successfully!\")\n",
        "\n",
        "    def tokenize_texts(self, texts, max_length=MAX_TEXT_LENGTH):\n",
        "        \"\"\"Tokenize texts for BERT\"\"\"\n",
        "        return self.tokenizer(\n",
        "            texts.tolist(),\n",
        "            padding=True,\n",
        "            truncation=True,\n",
        "            max_length=max_length,\n",
        "            return_tensors=\"pt\"\n",
        "        )\n",
        "\n",
        "    def train_bert_model(self, train_texts, train_labels, val_texts, val_labels):\n",
        "        \"\"\"Train BERT model\"\"\"\n",
        "        print(\"Training BERT model...\")\n",
        "\n",
        "        # Tokenize data\n",
        "        train_encodings = self.tokenize_texts(train_texts)\n",
        "        val_encodings = self.tokenize_texts(val_texts)\n",
        "\n",
        "        # Create datasets\n",
        "        train_dataset = TextDataset(train_encodings, train_labels)\n",
        "        val_dataset = TextDataset(val_encodings, val_labels)\n",
        "\n",
        "        # Training arguments\n",
        "        training_args = TrainingArguments(\n",
        "            output_dir='./results',\n",
        "            num_train_epochs=3,\n",
        "            per_device_train_batch_size=BATCH_SIZE,\n",
        "            per_device_eval_batch_size=BATCH_SIZE,\n",
        "            warmup_steps=500,\n",
        "            weight_decay=0.01,\n",
        "            logging_dir='./logs',\n",
        "            logging_steps=100,\n",
        "            evaluation_strategy=\"epoch\",\n",
        "            save_strategy=\"epoch\",\n",
        "            load_best_model_at_end=True,\n",
        "            metric_for_best_model=\"eval_loss\",\n",
        "            greater_is_better=False,\n",
        "        )\n",
        "\n",
        "        # Trainer\n",
        "        trainer = Trainer(\n",
        "            model=self.model,\n",
        "            args=training_args,\n",
        "            train_dataset=train_dataset,\n",
        "            eval_dataset=val_dataset,\n",
        "        )\n",
        "\n",
        "        # Train\n",
        "        trainer.train()\n",
        "        print(\"BERT model training completed!\")\n",
        "        return trainer\n",
        "\n",
        "    def train_traditional_model(self, train_texts, train_labels, feature_df):\n",
        "        \"\"\"Train traditional ML model\"\"\"\n",
        "        print(\"Training traditional ML model...\")\n",
        "\n",
        "        # TF-IDF features\n",
        "        tfidf_features = self.tfidf_vectorizer.fit_transform(train_texts)\n",
        "\n",
        "        # Additional features\n",
        "        additional_features = feature_df[['text_length', 'word_count', 'num_references',\n",
        "                                       'doi_count', 'url_count', 'repository_mentions']].values\n",
        "\n",
        "        # Combine features\n",
        "        from scipy.sparse import hstack\n",
        "        combined_features = hstack([tfidf_features, additional_features])\n",
        "\n",
        "        # Train model\n",
        "        self.traditional_model.fit(combined_features, train_labels)\n",
        "        print(\"Traditional ML model training completed!\")\n",
        "\n",
        "        return self.traditional_model\n",
        "\n",
        "print(\"Model classes loaded successfully!\")"
      ],
      "metadata": {
        "colab": {
          "base_uri": "https://localhost:8080/"
        },
        "id": "N86oyZ11V2xX",
        "outputId": "b56a82e4-4284-4231-da54-140075a691dd"
      },
      "execution_count": null,
      "outputs": [
        {
          "output_type": "stream",
          "name": "stdout",
          "text": [
            "Model classes loaded successfully!\n"
          ]
        }
      ]
    },
    {
      "cell_type": "markdown",
      "source": [
        "## CHECK FOR LABELS AND PREPARE DATA"
      ],
      "metadata": {
        "id": "gPStcJxUWqjY"
      }
    },
    {
      "cell_type": "code",
      "source": [
        "#Checking here if we have labels for supervised learning\n",
        "label_columns = [col for col in train_df.columns if 'target' in col.lower() or 'label' in col.lower()]\n",
        "\n",
        "print(\"=== LABEL ANALYSIS ===\")\n",
        "print(f\"Available columns: {train_df.columns.tolist()}\")\n",
        "print(f\"Potential label columns: {label_columns}\")\n",
        "\n",
        "if label_columns:\n",
        "    target_col = label_columns[0]\n",
        "    print(f\"\\n✓ Using supervised learning with target column: {target_col}\")\n",
        "\n",
        "    # Check target distribution\n",
        "    print(f\"Target distribution:\")\n",
        "    print(train_df[target_col].value_counts())\n",
        "\n",
        "    # Check for missing values\n",
        "    missing_targets = train_df[target_col].isnull().sum()\n",
        "    print(f\"Missing target values: {missing_targets}\")\n",
        "\n",
        "    if missing_targets > 0:\n",
        "        print(\"Removing rows with missing target values...\")\n",
        "        train_df = train_df.dropna(subset=[target_col])\n",
        "        print(f\"Remaining training samples: {len(train_df)}\")\n",
        "\n",
        "    # Prepare data for training\n",
        "    X = train_df['text'].fillna('')\n",
        "    y = train_df[target_col]\n",
        "\n",
        "    # Split data\n",
        "    X_train, X_val, y_train, y_val = train_test_split(\n",
        "        X, y, test_size=0.2, random_state=42, stratify=y\n",
        "    )\n",
        "\n",
        "    print(f\"\\nData split:\")\n",
        "    print(f\"Training set size: {len(X_train)}\")\n",
        "    print(f\"Validation set size: {len(X_val)}\")\n",
        "    print(f\"Training target distribution: {y_train.value_counts()}\")\n",
        "    print(f\"Validation target distribution: {y_val.value_counts()}\")\n",
        "\n",
        "    SUPERVISED_LEARNING = True\n",
        "\n",
        "else:\n",
        "    print(\"✗ No labels found. Will use unsupervised approach.\")\n",
        "    SUPERVISED_LEARNING = False"
      ],
      "metadata": {
        "colab": {
          "base_uri": "https://localhost:8080/"
        },
        "id": "EhxxdcI3V69N",
        "outputId": "de5ce5ad-93ae-4058-e51a-33f95f0bf012"
      },
      "execution_count": null,
      "outputs": [
        {
          "output_type": "stream",
          "name": "stdout",
          "text": [
            "=== LABEL ANALYSIS ===\n",
            "Available columns: ['filename', 'file_path', 'text', 'doc_type', 'text_length', 'dataset_id', 'type', 'word_count', 'avg_word_length', 'num_references', 'dataset_mentions', 'doi_count', 'url_count', 'repository_mentions', 'has_data_references', 'has_doi', 'has_url', 'has_repository']\n",
            "Potential label columns: []\n",
            "✗ No labels found. Will use unsupervised approach.\n"
          ]
        }
      ]
    },
    {
      "cell_type": "markdown",
      "source": [
        "Since there is no use of supervised learning, will be moving with Unsupervised learning"
      ],
      "metadata": {
        "id": "ahotbt5AWvlz"
      }
    },
    {
      "cell_type": "code",
      "source": [
        "print(\"=== UNSUPERVISED/RULE-BASED APPROACH ===\")\n",
        "\n",
        "#Creating rule-based predictions based on reference patterns\n",
        "def rule_based_prediction(row):\n",
        "    \"\"\"Rule-based prediction for data references\"\"\"\n",
        "    score = 0\n",
        "\n",
        "    # Weight different types of references\n",
        "    score += row['dataset_mentions'] * 3\n",
        "    score += row['doi_count'] * 2\n",
        "    score += row['url_count'] * 1\n",
        "    score += row['repository_mentions'] * 4\n",
        "\n",
        "    #Additional scoring based on text characteristics\n",
        "    if row['text_length'] > 1000:  #Because longer documents more likely to have references\n",
        "        score += 1\n",
        "\n",
        "    #Here threshold-based classification is done\n",
        "    return 1 if score >= 2 else 0\n",
        "\n",
        "#Applying rule-based approach to test data\n",
        "test_df['rule_based_prediction'] = test_df.apply(rule_based_prediction, axis=1)\n",
        "\n",
        "print(f\"Rule-based predictions distribution: {test_df['rule_based_prediction'].value_counts()}\")\n",
        "\n",
        "#If we have supervised predictions, compare them\n",
        "if SUPERVISED_LEARNING:\n",
        "    test_df['supervised_prediction'] = predicted_labels\n",
        "\n",
        "    #Comparing predictions\n",
        "    agreement = (test_df['rule_based_prediction'] == test_df['supervised_prediction']).mean()\n",
        "    print(f\"Agreement between supervised and rule-based: {agreement:.2%}\")\n",
        "\n",
        "    #Use supervised predictions as primary\n",
        "    final_predictions = test_df['supervised_prediction'].values\n",
        "    method_used = \"Supervised (BERT)\"\n",
        "else:\n",
        "    #Use rule-based predictions\n",
        "    final_predictions = test_df['rule_based_prediction'].values\n",
        "    method_used = \"Rule-based\"\n",
        "\n",
        "print(f\"Final method used: {method_used}\")"
      ],
      "metadata": {
        "colab": {
          "base_uri": "https://localhost:8080/"
        },
        "id": "tvp6fv8DWtez",
        "outputId": "e50a5582-824c-4dc0-eaee-33de2af462bb"
      },
      "execution_count": null,
      "outputs": [
        {
          "output_type": "stream",
          "name": "stdout",
          "text": [
            "=== UNSUPERVISED/RULE-BASED APPROACH ===\n",
            "Rule-based predictions distribution: rule_based_prediction\n",
            "0    55\n",
            "Name: count, dtype: int64\n",
            "Final method used: Rule-based\n"
          ]
        }
      ]
    },
    {
      "cell_type": "code",
      "source": [
        "#Creating submission dataframe\n",
        "submission = pd.DataFrame({\n",
        "    'filename': test_df['filename'],\n",
        "    'prediction': final_predictions\n",
        "})\n",
        "\n",
        "# Display submission statistics\n",
        "print(f\"Submission shape: {submission.shape}\")\n",
        "print(\"\\nSubmission DataFrame columns:\", submission.columns.tolist())\n",
        "print(\"\\nFirst 5 rows of submission:\")\n",
        "print(submission.head())"
      ],
      "metadata": {
        "colab": {
          "base_uri": "https://localhost:8080/"
        },
        "id": "SAEUfD1mWydI",
        "outputId": "55d15cc9-5474-4dcc-c412-538993549e3e"
      },
      "execution_count": null,
      "outputs": [
        {
          "output_type": "stream",
          "name": "stdout",
          "text": [
            "Submission shape: (55, 2)\n",
            "\n",
            "Submission DataFrame columns: ['filename', 'prediction']\n",
            "\n",
            "First 5 rows of submission:\n",
            "                 filename  prediction\n",
            "0       10.1002_ece3.6303           0\n",
            "1  10.1002_chem.201902131           0\n",
            "2  10.1002_chem.202001412           0\n",
            "3       10.1002_ece3.3985           0\n",
            "4  10.1002_anie.201916483           0\n"
          ]
        }
      ]
    },
    {
      "cell_type": "markdown",
      "source": [
        "# AutoPaperClassifier"
      ],
      "metadata": {
        "id": "c41MIJIqW6WF"
      }
    },
    {
      "cell_type": "markdown",
      "source": [
        "## Document Intelligence: BERT-Powered PDF Classifier with FastAPI"
      ],
      "metadata": {
        "id": "glWK0NLqW_xx"
      }
    },
    {
      "cell_type": "markdown",
      "source": [
        "Cell - Setup & Imports"
      ],
      "metadata": {
        "id": "6OpVKlPoXDRy"
      }
    },
    {
      "cell_type": "code",
      "source": [
        "#Installing required libraries\n",
        "!pip install transformers datasets --quiet\n",
        "\n",
        "#Imports\n",
        "import torch\n",
        "from torch import nn\n",
        "from torch.utils.data import Dataset, DataLoader\n",
        "from transformers import BertTokenizer, BertModel\n",
        "from sklearn.preprocessing import LabelEncoder\n",
        "from sklearn.model_selection import train_test_split\n",
        "import pandas as pd\n",
        "import numpy as np"
      ],
      "metadata": {
        "id": "JMEK3kiTW1NZ"
      },
      "execution_count": null,
      "outputs": []
    },
    {
      "cell_type": "markdown",
      "source": [
        "## Preparing Data (Text + Label)"
      ],
      "metadata": {
        "id": "80P3xCuSXHy5"
      }
    },
    {
      "cell_type": "code",
      "source": [
        "#Only keeping labeled training data\n",
        "train_df_clean = train_df.dropna(subset=['type'])\n",
        "\n",
        "#Encoding labels\n",
        "label_encoder = LabelEncoder()\n",
        "train_df_clean['label'] = label_encoder.fit_transform(train_df_clean['type'])\n",
        "\n",
        "#Training-validation split\n",
        "train_texts, val_texts, train_labels, val_labels = train_test_split(\n",
        "    train_df_clean['text'], train_df_clean['label'], test_size=0.2, stratify=train_df_clean['label'], random_state=42\n",
        ")\n",
        "\n",
        "print(\"Classes:\", label_encoder.classes_)"
      ],
      "metadata": {
        "colab": {
          "base_uri": "https://localhost:8080/"
        },
        "id": "BbH_kmypXFN0",
        "outputId": "734b5e82-cdd4-4451-a68f-b14715559801"
      },
      "execution_count": null,
      "outputs": [
        {
          "output_type": "stream",
          "name": "stdout",
          "text": [
            "Classes: ['Missing' 'Primary' 'Secondary']\n"
          ]
        },
        {
          "output_type": "stream",
          "name": "stderr",
          "text": [
            "/tmp/ipython-input-36-993899602.py:6: SettingWithCopyWarning: \n",
            "A value is trying to be set on a copy of a slice from a DataFrame.\n",
            "Try using .loc[row_indexer,col_indexer] = value instead\n",
            "\n",
            "See the caveats in the documentation: https://pandas.pydata.org/pandas-docs/stable/user_guide/indexing.html#returning-a-view-versus-a-copy\n",
            "  train_df_clean['label'] = label_encoder.fit_transform(train_df_clean['type'])\n"
          ]
        }
      ]
    },
    {
      "cell_type": "markdown",
      "source": [
        "## Definin Dataset Class"
      ],
      "metadata": {
        "id": "N62rzDdmXHGr"
      }
    },
    {
      "cell_type": "code",
      "source": [
        "class DocumentDataset(Dataset):\n",
        "    def __init__(self, texts, labels, tokenizer, max_length=512):\n",
        "        self.texts = texts.tolist()\n",
        "        self.labels = labels.tolist()\n",
        "        self.tokenizer = tokenizer\n",
        "        self.max_length = max_length\n",
        "\n",
        "    def __len__(self):\n",
        "        return len(self.texts)\n",
        "\n",
        "    def __getitem__(self, idx):\n",
        "        encodings = self.tokenizer(\n",
        "            self.texts[idx],\n",
        "            truncation=True,\n",
        "            padding='max_length',\n",
        "            max_length=self.max_length,\n",
        "            return_tensors='pt'\n",
        "        )\n",
        "        item = {key: val.squeeze(0) for key, val in encodings.items()}\n",
        "        item['labels'] = torch.tensor(self.labels[idx], dtype=torch.long)\n",
        "        return item"
      ],
      "metadata": {
        "id": "RvYus05fZD8u"
      },
      "execution_count": null,
      "outputs": []
    },
    {
      "cell_type": "markdown",
      "source": [
        "## Loading Tokenizer & Datasets"
      ],
      "metadata": {
        "id": "NaEaPq7IZIWG"
      }
    },
    {
      "cell_type": "code",
      "source": [
        "tokenizer = BertTokenizer.from_pretrained('bert-base-uncased')\n",
        "\n",
        "train_dataset = DocumentDataset(train_texts, train_labels, tokenizer)\n",
        "val_dataset = DocumentDataset(val_texts, val_labels, tokenizer)\n",
        "\n",
        "train_loader = DataLoader(train_dataset, batch_size=16, shuffle=True)\n",
        "val_loader = DataLoader(val_dataset, batch_size=16)"
      ],
      "metadata": {
        "colab": {
          "base_uri": "https://localhost:8080/",
          "height": 269,
          "referenced_widgets": [
            "2d6c3bea34e54273a862f6cd702bbf4d",
            "1adf98c60aed405db7cda51ed64bbb46",
            "ffa3802d41f84656ba129aca63769a69",
            "ced89df253a64ff2859cd131da173f1f",
            "ebfbfcbf14404c5e8c1fdb40d7c20db8",
            "f455ea3c2ded4d32b2e4631cb4cf0374",
            "57e99524de7d42dfaf16981f07a3eec3",
            "762eccf5185644a18b8a3f27eaa8cd06",
            "40c2733192fb4071995e243d3e227bc8",
            "dff8f776f6cc4c08bf80ee686be40081",
            "c80585b117f345f3bc3d44cf61da870a",
            "2be033c0e5884c7a8711077895245c4c",
            "a036d9d3b7f24f268a3d51a951cf8989",
            "01baff72afb14cacaa8c135ac3eba4c9",
            "f0721646f7e84396931592e6f0119bc4",
            "78cff4de477540ada33232822be72a44",
            "72befb33a8dd426d9c04f759668e29e4",
            "89dd8d64717f411c89fe080fb95c209f",
            "5cb51731d38f4e179c0f13dc2db68717",
            "7edea1171a8a469eae648624b5866067",
            "2805cd5ea2194442b5891e01a3a8ec79",
            "de2a0800d43b4376a46f582c4bc634f4",
            "93067fbd969243088cd2e49b3a333bb8",
            "c36d094c804a41678720ad9297d3a0e0",
            "a1656007dc0744afb20768cb6e3cb47d",
            "9ebf867272674f3ab32419eef169d459",
            "2f0aa53622f94d98a996cdf18c70a41b",
            "89591614c49548febf73a4bb13941dbc",
            "cedf6c43fa354c88bf741a537c392930",
            "ecca0e409ee646c5870c9080bc58e537",
            "67c26779f1c24eacaa6637c81294f746",
            "db103af0c034497faccfacd9a821e3e6",
            "e3e82043529045948c08f85a83064370",
            "a257cbdb5a6e4f0288d963a1d5c6dd8d",
            "41382db8cb2d49fba6c08fd9ed700629",
            "bc878d5a56054b05b8807ceafceb4e17",
            "1c3af48de9dd45599487711016f72ec2",
            "0b177f3b41144e9395f58a7dafd27534",
            "c609d63cec0249dd81ebac9d66fc0560",
            "55cdedb9d3a542f192977e29f3bd0d12",
            "6435d9fe0a804e81975da21910ef7b45",
            "6d7dce7b87834f0db530eba0af4d5a69",
            "0557ec65410b40c6a7759a7492232546",
            "7c320ab785ec435180b935956bafbed7"
          ]
        },
        "id": "DPKgjXtLZFlr",
        "outputId": "2c9f2a95-68e1-4933-8afd-a7c5b52a9bc0"
      },
      "execution_count": null,
      "outputs": [
        {
          "output_type": "stream",
          "name": "stderr",
          "text": [
            "/usr/local/lib/python3.11/dist-packages/huggingface_hub/utils/_auth.py:94: UserWarning: \n",
            "The secret `HF_TOKEN` does not exist in your Colab secrets.\n",
            "To authenticate with the Hugging Face Hub, create a token in your settings tab (https://huggingface.co/settings/tokens), set it as secret in your Google Colab and restart your session.\n",
            "You will be able to reuse this secret in all of your notebooks.\n",
            "Please note that authentication is recommended but still optional to access public models or datasets.\n",
            "  warnings.warn(\n"
          ]
        },
        {
          "output_type": "display_data",
          "data": {
            "text/plain": [
              "tokenizer_config.json:   0%|          | 0.00/48.0 [00:00<?, ?B/s]"
            ],
            "application/vnd.jupyter.widget-view+json": {
              "version_major": 2,
              "version_minor": 0,
              "model_id": "2d6c3bea34e54273a862f6cd702bbf4d"
            }
          },
          "metadata": {}
        },
        {
          "output_type": "display_data",
          "data": {
            "text/plain": [
              "vocab.txt:   0%|          | 0.00/232k [00:00<?, ?B/s]"
            ],
            "application/vnd.jupyter.widget-view+json": {
              "version_major": 2,
              "version_minor": 0,
              "model_id": "2be033c0e5884c7a8711077895245c4c"
            }
          },
          "metadata": {}
        },
        {
          "output_type": "display_data",
          "data": {
            "text/plain": [
              "tokenizer.json:   0%|          | 0.00/466k [00:00<?, ?B/s]"
            ],
            "application/vnd.jupyter.widget-view+json": {
              "version_major": 2,
              "version_minor": 0,
              "model_id": "93067fbd969243088cd2e49b3a333bb8"
            }
          },
          "metadata": {}
        },
        {
          "output_type": "display_data",
          "data": {
            "text/plain": [
              "config.json:   0%|          | 0.00/570 [00:00<?, ?B/s]"
            ],
            "application/vnd.jupyter.widget-view+json": {
              "version_major": 2,
              "version_minor": 0,
              "model_id": "a257cbdb5a6e4f0288d963a1d5c6dd8d"
            }
          },
          "metadata": {}
        }
      ]
    },
    {
      "cell_type": "markdown",
      "source": [
        "## Defining BERT Classifier"
      ],
      "metadata": {
        "id": "_x2z27BWZOPQ"
      }
    },
    {
      "cell_type": "code",
      "source": [
        "class BertClassifier(nn.Module):\n",
        "    def __init__(self, num_classes):\n",
        "        super(BertClassifier, self).__init__()\n",
        "        self.bert = BertModel.from_pretrained('bert-base-uncased')\n",
        "        self.dropout = nn.Dropout(0.3)\n",
        "        self.fc = nn.Linear(self.bert.config.hidden_size, num_classes)\n",
        "\n",
        "    def forward(self, input_ids, attention_mask):\n",
        "        outputs = self.bert(input_ids=input_ids, attention_mask=attention_mask)\n",
        "        pooled_output = outputs.pooler_output\n",
        "        x = self.dropout(pooled_output)\n",
        "        return self.fc(x)\n"
      ],
      "metadata": {
        "id": "RU_BoVP_ZLbf"
      },
      "execution_count": null,
      "outputs": []
    },
    {
      "cell_type": "code",
      "source": [
        "  #This cell so that I can check my local machine's GPU\n",
        "\n",
        "import torch\n",
        "import gc\n",
        "\n",
        "torch.cuda.empty_cache()\n",
        "gc.collect()"
      ],
      "metadata": {
        "colab": {
          "base_uri": "https://localhost:8080/"
        },
        "id": "D2n7HvpWZQoU",
        "outputId": "5330fed7-5eeb-4404-a655-67e95f7a60c6"
      },
      "execution_count": null,
      "outputs": [
        {
          "output_type": "execute_result",
          "data": {
            "text/plain": [
              "30"
            ]
          },
          "metadata": {},
          "execution_count": 40
        }
      ]
    },
    {
      "cell_type": "markdown",
      "source": [
        "Training the Model here ->"
      ],
      "metadata": {
        "id": "T0jfOVG3ZXPe"
      }
    },
    {
      "cell_type": "code",
      "source": [
        "import torch\n",
        "import torch.nn as nn\n",
        "from torch.utils.data import Dataset, DataLoader\n",
        "from transformers import AutoTokenizer, AutoModel\n",
        "from sklearn.preprocessing import LabelEncoder\n",
        "from sklearn.model_selection import train_test_split\n",
        "import pandas as pd\n",
        "\n",
        "# === 1. Define Model ===\n",
        "class BertClassifier(nn.Module):\n",
        "    def __init__(self, num_classes):\n",
        "        super(BertClassifier, self).__init__()\n",
        "        self.bert = AutoModel.from_pretrained(\"bert-base-uncased\")\n",
        "        self.dropout = nn.Dropout(0.3)\n",
        "        self.classifier = nn.Linear(self.bert.config.hidden_size, num_classes)\n",
        "\n",
        "    def forward(self, input_ids, attention_mask):\n",
        "        outputs = self.bert(input_ids=input_ids, attention_mask=attention_mask)\n",
        "        cls_output = outputs.last_hidden_state[:, 0, :]  # Use [CLS] token\n",
        "        cls_output = self.dropout(cls_output)\n",
        "        return self.classifier(cls_output)\n",
        "\n",
        "# === 2. Tokenization and Dataset ===\n",
        "tokenizer = AutoTokenizer.from_pretrained(\"bert-base-uncased\")\n",
        "\n",
        "class PreTokenizedDataset(Dataset):\n",
        "    def __init__(self, input_ids, attention_mask, labels):\n",
        "        self.input_ids = input_ids\n",
        "        self.attention_mask = attention_mask\n",
        "        self.labels = labels\n",
        "\n",
        "    def __len__(self):\n",
        "        return len(self.labels)\n",
        "\n",
        "    def __getitem__(self, idx):\n",
        "        return {\n",
        "            'input_ids': self.input_ids[idx],\n",
        "            'attention_mask': self.attention_mask[idx],\n",
        "            'labels': self.labels[idx]\n",
        "        }\n",
        "\n",
        "def preprocess(texts, labels, tokenizer, max_length=512):\n",
        "    encodings = tokenizer(\n",
        "        texts,\n",
        "        truncation=True,\n",
        "        padding=True,\n",
        "        max_length=max_length,\n",
        "        return_tensors=\"pt\"\n",
        "    )\n",
        "    return {\n",
        "        'input_ids': encodings['input_ids'],\n",
        "        'attention_mask': encodings['attention_mask'],\n",
        "        'labels': torch.tensor(labels)\n",
        "    }\n",
        "\n",
        "# === 3. Load and preprocess data ===\n",
        "# Drop rows with NaN in 'text' or 'type'\n",
        "train_df = train_df.dropna(subset=['text', 'type'])\n",
        "\n",
        "# Split the data into train and validation sets\n",
        "train_df, val_df = train_test_split(train_df, test_size=0.15, stratify=train_df[\"type\"], random_state=42)\n",
        "\n",
        "label_encoder = LabelEncoder()\n",
        "y_train = label_encoder.fit_transform(train_df[\"type\"])\n",
        "y_val = label_encoder.transform(val_df[\"type\"])\n",
        "\n",
        "train_encoded = preprocess(train_df[\"text\"].tolist(), y_train, tokenizer)\n",
        "val_encoded = preprocess(val_df[\"text\"].tolist(), y_val, tokenizer)\n",
        "\n",
        "train_dataset = PreTokenizedDataset(**train_encoded)\n",
        "val_dataset = PreTokenizedDataset(**val_encoded)\n",
        "\n",
        "train_loader = DataLoader(train_dataset, batch_size=8, shuffle=True)\n",
        "val_loader = DataLoader(val_dataset, batch_size=8)\n",
        "\n",
        "# === 4. Training Setup ===\n",
        "device = torch.device(\"cuda\" if torch.cuda.is_available() else \"cpu\")\n",
        "model = BertClassifier(num_classes=len(label_encoder.classes_)).to(device)\n",
        "optimizer = torch.optim.AdamW(model.parameters(), lr=2e-5)\n",
        "criterion = nn.CrossEntropyLoss()\n",
        "\n",
        "# Optional: Enable gradient checkpointing to reduce memory\n",
        "model.bert.gradient_checkpointing_enable()\n",
        "\n",
        "# === 5. Training Loop ===\n",
        "for epoch in range(3):\n",
        "    model.train()\n",
        "    total_loss = 0\n",
        "    for batch in train_loader:\n",
        "        input_ids = batch['input_ids'].to(device, non_blocking=True)\n",
        "        attention_mask = batch['attention_mask'].to(device, non_blocking=True)\n",
        "        labels = batch['labels'].to(device, non_blocking=True)\n",
        "\n",
        "        optimizer.zero_grad(set_to_none=True)\n",
        "        outputs = model(input_ids, attention_mask)\n",
        "        loss = criterion(outputs, labels)\n",
        "        loss.backward()\n",
        "        optimizer.step()\n",
        "        total_loss += loss.item()\n",
        "\n",
        "    print(f\"Epoch {epoch+1} | Loss: {total_loss / len(train_loader):.4f}\")\n",
        "\n",
        "# === 6. Save Model ===\n",
        "torch.save(model.state_dict(), \"saved_model/model.pt\")\n"
      ],
      "metadata": {
        "id": "LyiGp4n-ZVFQ"
      },
      "execution_count": null,
      "outputs": []
    },
    {
      "cell_type": "markdown",
      "source": [
        "## Evaluation of the Model"
      ],
      "metadata": {
        "id": "7Q2rpQodahpY"
      }
    },
    {
      "cell_type": "code",
      "source": [
        "from sklearn.metrics import classification_report\n",
        "\n",
        "model.eval()\n",
        "all_preds = []\n",
        "all_labels = []\n",
        "\n",
        "with torch.no_grad():\n",
        "    for batch in val_loader:\n",
        "        input_ids = batch['input_ids'].to(device)\n",
        "        attention_mask = batch['attention_mask'].to(device)\n",
        "        labels = batch['labels'].to(device)\n",
        "\n",
        "        outputs = model(input_ids, attention_mask)\n",
        "        preds = torch.argmax(outputs, dim=1)\n",
        "\n",
        "        all_preds.extend(preds.cpu().numpy())\n",
        "        all_labels.extend(labels.cpu().numpy())\n",
        "\n",
        "print(classification_report(all_labels, all_preds, target_names=label_encoder.classes_))"
      ],
      "metadata": {
        "id": "XbvBrJRuZeE0"
      },
      "execution_count": null,
      "outputs": []
    },
    {
      "cell_type": "code",
      "source": [
        "#Saving the fitted LabelEncoder to disk for use during inference.\n",
        "#This encoder maps class labels to integers and is required to interpret model predictions.\n",
        "import joblib\n",
        "joblib.dump(label_encoder, \"saved_model/label_encoder.joblib\")"
      ],
      "metadata": {
        "id": "0HnwZShoalpn"
      },
      "execution_count": null,
      "outputs": []
    }
  ]
}